{
  "cells": [
    {
      "cell_type": "markdown",
      "metadata": {
        "id": "view-in-github",
        "colab_type": "text"
      },
      "source": [
        "<a href=\"https://colab.research.google.com/github/ivanleech/Pytorch-EfficientNet/blob/main/Birds_Classifier_Pytorch_EfficientNet.ipynb\" target=\"_parent\"><img src=\"https://colab.research.google.com/assets/colab-badge.svg\" alt=\"Open In Colab\"/></a>"
      ]
    },
    {
      "cell_type": "code",
      "execution_count": null,
      "metadata": {
        "id": "4PhwtgVHCOM8"
      },
      "outputs": [],
      "source": [
        "\n",
        "# IMPORTANT: RUN THIS CELL IN ORDER TO IMPORT YOUR KAGGLE DATA SOURCES\n",
        "# TO THE CORRECT LOCATION (/kaggle/input) IN YOUR NOTEBOOK,\n",
        "# THEN FEEL FREE TO DELETE THIS CELL.\n",
        "# NOTE: THIS NOTEBOOK ENVIRONMENT DIFFERS FROM KAGGLE'S PYTHON\n",
        "# ENVIRONMENT SO THERE MAY BE MISSING LIBRARIES USED BY YOUR\n",
        "# NOTEBOOK.\n",
        "\n",
        "import os\n",
        "import sys\n",
        "from tempfile import NamedTemporaryFile\n",
        "from urllib.request import urlopen\n",
        "from urllib.parse import unquote, urlparse\n",
        "from urllib.error import HTTPError\n",
        "from zipfile import ZipFile\n",
        "import tarfile\n",
        "import shutil\n",
        "\n",
        "CHUNK_SIZE = 40960\n",
        "DATA_SOURCE_MAPPING = '100-bird-species:https%3A%2F%2Fstorage.googleapis.com%2Fkaggle-data-sets%2F534640%2F5468571%2Fbundle%2Farchive.zip%3FX-Goog-Algorithm%3DGOOG4-RSA-SHA256%26X-Goog-Credential%3Dgcp-kaggle-com%2540kaggle-161607.iam.gserviceaccount.com%252F20240219%252Fauto%252Fstorage%252Fgoog4_request%26X-Goog-Date%3D20240219T014404Z%26X-Goog-Expires%3D259200%26X-Goog-SignedHeaders%3Dhost%26X-Goog-Signature%3D7f2061da0afe0086ff0ec67bfb56cb4903bc20429696528c1d8c404c8eedd83819609d97209266cf055cca2d713c60202b1216e448e9b8b208ddd07755226d9bcec73c5d8e9b1ad4333f2df72c8c5ffafc62d04ea52e64f431c3dbf80a173e67a1f9607e82b61b0bfb0a04815fa2f4f85f26ddddf3fb208e3bba721258c0fa67dd2770ebe8bd6ec28df970c8afe4829e7d9439b7b0da122f118cd0ef79c57795a83716adf270fd343508fd515cd73116fc852bd2710309c1aa5059c52d443fdf9e205f22dfc51a0b962048acd278750871de139f4491a40ee1ea174f1bb7d954b5a33ccada999ca02841b7f909aaaea4a03b866d0d67bf200e11943a5bc87acf'\n",
        "\n",
        "KAGGLE_INPUT_PATH='/kaggle/input'\n",
        "KAGGLE_WORKING_PATH='/kaggle/working'\n",
        "KAGGLE_SYMLINK='kaggle'\n",
        "\n",
        "!umount /kaggle/input/ 2> /dev/null\n",
        "shutil.rmtree('/kaggle/input', ignore_errors=True)\n",
        "os.makedirs(KAGGLE_INPUT_PATH, 0o777, exist_ok=True)\n",
        "os.makedirs(KAGGLE_WORKING_PATH, 0o777, exist_ok=True)\n",
        "\n",
        "try:\n",
        "  os.symlink(KAGGLE_INPUT_PATH, os.path.join(\"..\", 'input'), target_is_directory=True)\n",
        "except FileExistsError:\n",
        "  pass\n",
        "try:\n",
        "  os.symlink(KAGGLE_WORKING_PATH, os.path.join(\"..\", 'working'), target_is_directory=True)\n",
        "except FileExistsError:\n",
        "  pass\n",
        "\n",
        "for data_source_mapping in DATA_SOURCE_MAPPING.split(','):\n",
        "    directory, download_url_encoded = data_source_mapping.split(':')\n",
        "    download_url = unquote(download_url_encoded)\n",
        "    filename = urlparse(download_url).path\n",
        "    destination_path = os.path.join(KAGGLE_INPUT_PATH, directory)\n",
        "    try:\n",
        "        with urlopen(download_url) as fileres, NamedTemporaryFile() as tfile:\n",
        "            total_length = fileres.headers['content-length']\n",
        "            print(f'Downloading {directory}, {total_length} bytes compressed')\n",
        "            dl = 0\n",
        "            data = fileres.read(CHUNK_SIZE)\n",
        "            while len(data) > 0:\n",
        "                dl += len(data)\n",
        "                tfile.write(data)\n",
        "                done = int(50 * dl / int(total_length))\n",
        "                sys.stdout.write(f\"\\r[{'=' * done}{' ' * (50-done)}] {dl} bytes downloaded\")\n",
        "                sys.stdout.flush()\n",
        "                data = fileres.read(CHUNK_SIZE)\n",
        "            if filename.endswith('.zip'):\n",
        "              with ZipFile(tfile) as zfile:\n",
        "                zfile.extractall(destination_path)\n",
        "            else:\n",
        "              with tarfile.open(tfile.name) as tarfile:\n",
        "                tarfile.extractall(destination_path)\n",
        "            print(f'\\nDownloaded and uncompressed: {directory}')\n",
        "    except HTTPError as e:\n",
        "        print(f'Failed to load (likely expired) {download_url} to path {destination_path}')\n",
        "        continue\n",
        "    except OSError as e:\n",
        "        print(f'Failed to load {download_url} to path {destination_path}')\n",
        "        continue\n",
        "\n",
        "print('Data source import complete.')\n"
      ]
    },
    {
      "cell_type": "code",
      "execution_count": null,
      "metadata": {
        "colab": {
          "background_save": true
        },
        "id": "40OU36H-COM-"
      },
      "outputs": [],
      "source": [
        "# # This Python 3 environment comes with many helpful analytics libraries installed\n",
        "# # It is defined by the kaggle/python Docker image: https://github.com/kaggle/docker-python\n",
        "# # For example, here's several helpful packages to load\n",
        "\n",
        "# import numpy as np # linear algebra\n",
        "# import pandas as pd # data processing, CSV file I/O (e.g. pd.read_csv)\n",
        "\n",
        "# # Input data files are available in the read-only \"../input/\" directory\n",
        "# # For example, running this (by clicking run or pressing Shift+Enter) will list all files under the input directory\n",
        "\n",
        "# import os\n",
        "# for dirname, _, filenames in os.walk('/kaggle/input'):\n",
        "#     for filename in filenames:\n",
        "#         print(os.path.join(dirname, filename))\n",
        "\n",
        "# # You can write up to 20GB to the current directory (/kaggle/working/) that gets preserved as output when you create a version using \"Save & Run All\"\n",
        "# # You can also write temporary files to /kaggle/temp/, but they won't be saved outside of the current session"
      ]
    },
    {
      "cell_type": "code",
      "execution_count": null,
      "metadata": {
        "colab": {
          "background_save": true
        },
        "id": "3AH5EP-iDlnB"
      },
      "outputs": [],
      "source": [
        "# System Version: 3.10.13 | packaged by conda-forge | (main, Dec 23 2023, 15:36:39) [GCC 12.3.0]\n",
        "# PyTorch version 2.1.2+cpu\n",
        "# Torchvision version 0.16.2+cpu\n",
        "# Numpy version 1.26.3\n",
        "# Pandas version 2.2.0"
      ]
    },
    {
      "cell_type": "code",
      "source": [
        "!pip install timm"
      ],
      "metadata": {
        "colab": {
          "base_uri": "https://localhost:8080/"
        },
        "id": "lfN8dIcaF8kh",
        "outputId": "96301b61-5b16-4993-92ed-1e6068fc7559"
      },
      "execution_count": null,
      "outputs": [
        {
          "output_type": "stream",
          "name": "stdout",
          "text": [
            "Collecting timm\n",
            "  Downloading timm-0.9.12-py3-none-any.whl (2.2 MB)\n",
            "\u001b[2K     \u001b[90m━━━━━━━━━━━━━━━━━━━━━━━━━━━━━━━━━━━━━━━━\u001b[0m \u001b[32m2.2/2.2 MB\u001b[0m \u001b[31m7.1 MB/s\u001b[0m eta \u001b[36m0:00:00\u001b[0m\n",
            "\u001b[?25hRequirement already satisfied: torch>=1.7 in /usr/local/lib/python3.10/dist-packages (from timm) (2.1.0+cu121)\n",
            "Requirement already satisfied: torchvision in /usr/local/lib/python3.10/dist-packages (from timm) (0.16.0+cu121)\n",
            "Requirement already satisfied: pyyaml in /usr/local/lib/python3.10/dist-packages (from timm) (6.0.1)\n",
            "Requirement already satisfied: huggingface-hub in /usr/local/lib/python3.10/dist-packages (from timm) (0.20.3)\n",
            "Requirement already satisfied: safetensors in /usr/local/lib/python3.10/dist-packages (from timm) (0.4.2)\n",
            "Requirement already satisfied: filelock in /usr/local/lib/python3.10/dist-packages (from torch>=1.7->timm) (3.13.1)\n",
            "Requirement already satisfied: typing-extensions in /usr/local/lib/python3.10/dist-packages (from torch>=1.7->timm) (4.9.0)\n",
            "Requirement already satisfied: sympy in /usr/local/lib/python3.10/dist-packages (from torch>=1.7->timm) (1.12)\n",
            "Requirement already satisfied: networkx in /usr/local/lib/python3.10/dist-packages (from torch>=1.7->timm) (3.2.1)\n",
            "Requirement already satisfied: jinja2 in /usr/local/lib/python3.10/dist-packages (from torch>=1.7->timm) (3.1.3)\n",
            "Requirement already satisfied: fsspec in /usr/local/lib/python3.10/dist-packages (from torch>=1.7->timm) (2023.6.0)\n",
            "Requirement already satisfied: triton==2.1.0 in /usr/local/lib/python3.10/dist-packages (from torch>=1.7->timm) (2.1.0)\n",
            "Requirement already satisfied: requests in /usr/local/lib/python3.10/dist-packages (from huggingface-hub->timm) (2.31.0)\n",
            "Requirement already satisfied: tqdm>=4.42.1 in /usr/local/lib/python3.10/dist-packages (from huggingface-hub->timm) (4.66.2)\n",
            "Requirement already satisfied: packaging>=20.9 in /usr/local/lib/python3.10/dist-packages (from huggingface-hub->timm) (23.2)\n",
            "Requirement already satisfied: numpy in /usr/local/lib/python3.10/dist-packages (from torchvision->timm) (1.25.2)\n",
            "Requirement already satisfied: pillow!=8.3.*,>=5.3.0 in /usr/local/lib/python3.10/dist-packages (from torchvision->timm) (9.4.0)\n",
            "Requirement already satisfied: MarkupSafe>=2.0 in /usr/local/lib/python3.10/dist-packages (from jinja2->torch>=1.7->timm) (2.1.5)\n",
            "Requirement already satisfied: charset-normalizer<4,>=2 in /usr/local/lib/python3.10/dist-packages (from requests->huggingface-hub->timm) (3.3.2)\n",
            "Requirement already satisfied: idna<4,>=2.5 in /usr/local/lib/python3.10/dist-packages (from requests->huggingface-hub->timm) (3.6)\n",
            "Requirement already satisfied: urllib3<3,>=1.21.1 in /usr/local/lib/python3.10/dist-packages (from requests->huggingface-hub->timm) (2.0.7)\n",
            "Requirement already satisfied: certifi>=2017.4.17 in /usr/local/lib/python3.10/dist-packages (from requests->huggingface-hub->timm) (2024.2.2)\n",
            "Requirement already satisfied: mpmath>=0.19 in /usr/local/lib/python3.10/dist-packages (from sympy->torch>=1.7->timm) (1.3.0)\n",
            "Installing collected packages: timm\n",
            "Successfully installed timm-0.9.12\n"
          ]
        }
      ]
    },
    {
      "cell_type": "code",
      "execution_count": null,
      "metadata": {
        "id": "uioG9ZiOCOM_",
        "colab": {
          "base_uri": "https://localhost:8080/"
        },
        "outputId": "f63c10aa-537f-40fa-d530-76ffa609ba57"
      },
      "outputs": [
        {
          "output_type": "stream",
          "name": "stdout",
          "text": [
            "System Version: 3.10.12 (main, Nov 20 2023, 15:14:05) [GCC 11.4.0]\n",
            "PyTorch version 2.1.0+cu121\n",
            "Torchvision version 0.16.0+cu121\n",
            "Numpy version 1.25.2\n",
            "Pandas version 1.5.3\n"
          ]
        }
      ],
      "source": [
        "import torch\n",
        "import torch.nn as nn\n",
        "import torch.optim as optim\n",
        "from torch.utils.data import Dataset, DataLoader\n",
        "import torchvision\n",
        "import torchvision.transforms as transforms\n",
        "from torchvision.datasets import ImageFolder\n",
        "import timm\n",
        "\n",
        "import matplotlib.pyplot as plt # For data viz\n",
        "import pandas as pd\n",
        "import numpy as np\n",
        "import sys\n",
        "from tqdm.notebook import tqdm\n",
        "\n",
        "print('System Version:', sys.version)\n",
        "print('PyTorch version', torch.__version__)\n",
        "print('Torchvision version', torchvision.__version__)\n",
        "print('Numpy version', np.__version__)\n",
        "print('Pandas version', pd.__version__)"
      ]
    },
    {
      "cell_type": "markdown",
      "metadata": {
        "id": "rF6M7CYiCOM_"
      },
      "source": [
        "# Dataset\n",
        "* Load dataset from source\n",
        "* resize all images to 128x128"
      ]
    },
    {
      "cell_type": "code",
      "execution_count": null,
      "metadata": {
        "id": "Qbwpu6BXCONA"
      },
      "outputs": [],
      "source": [
        "class BirdsDataset(Dataset):\n",
        "    def __init__(self, data_dir, transform=None):\n",
        "        self.data = ImageFolder(data_dir, transform=transform)\n",
        "\n",
        "    def __len__(self):\n",
        "        return len(self.data)\n",
        "\n",
        "    def __getitem__(self, idx):\n",
        "        return self.data[idx]\n",
        "\n",
        "    @property\n",
        "    def classes(self):\n",
        "        return self.data.classes"
      ]
    },
    {
      "cell_type": "code",
      "execution_count": null,
      "metadata": {
        "id": "Mvp-pQOzCONB"
      },
      "outputs": [],
      "source": [
        "dataset = BirdsDataset(\n",
        "    data_dir='/kaggle/input/100-bird-species/train'\n",
        ")"
      ]
    },
    {
      "cell_type": "code",
      "execution_count": null,
      "metadata": {
        "colab": {
          "base_uri": "https://localhost:8080/",
          "height": 276
        },
        "id": "NUa0Xf55CONB",
        "outputId": "ba255ef3-7c33-490e-a81f-f20bc3f5923b"
      },
      "outputs": [
        {
          "output_type": "stream",
          "name": "stdout",
          "text": [
            "dataset length: 84635\n",
            "5\n"
          ]
        },
        {
          "output_type": "execute_result",
          "data": {
            "text/plain": [
              "<PIL.Image.Image image mode=RGB size=224x224>"
            ],
            "image/png": "[encoded data removed]"
          },
          "metadata": {},
          "execution_count": 14
        }
      ],
      "source": [
        "print(f'dataset length: {len(dataset)}')\n",
        "\n",
        "image, label = dataset[888]\n",
        "print(label)\n",
        "image"
      ]
    },
    {
      "cell_type": "code",
      "execution_count": null,
      "metadata": {
        "id": "fc0QziJ_CONB",
        "colab": {
          "base_uri": "https://localhost:8080/"
        },
        "outputId": "1c58c4f2-cff6-4517-b188-ea8f995f1a5d"
      },
      "outputs": [
        {
          "output_type": "stream",
          "name": "stdout",
          "text": [
            "{0: 'ABBOTTS BABBLER', 1: 'ABBOTTS BOOBY', 2: 'ABYSSINIAN GROUND HORNBILL', 3: 'AFRICAN CROWNED CRANE', 4: 'AFRICAN EMERALD CUCKOO', 5: 'AFRICAN FIREFINCH', 6: 'AFRICAN OYSTER CATCHER', 7: 'AFRICAN PIED HORNBILL', 8: 'AFRICAN PYGMY GOOSE', 9: 'ALBATROSS', 10: 'ALBERTS TOWHEE', 11: 'ALEXANDRINE PARAKEET', 12: 'ALPINE CHOUGH', 13: 'ALTAMIRA YELLOWTHROAT', 14: 'AMERICAN AVOCET', 15: 'AMERICAN BITTERN', 16: 'AMERICAN COOT', 17: 'AMERICAN DIPPER', 18: 'AMERICAN FLAMINGO', 19: 'AMERICAN GOLDFINCH', 20: 'AMERICAN KESTREL', 21: 'AMERICAN PIPIT', 22: 'AMERICAN REDSTART', 23: 'AMERICAN ROBIN', 24: 'AMERICAN WIGEON', 25: 'AMETHYST WOODSTAR', 26: 'ANDEAN GOOSE', 27: 'ANDEAN LAPWING', 28: 'ANDEAN SISKIN', 29: 'ANHINGA', 30: 'ANIANIAU', 31: 'ANNAS HUMMINGBIRD', 32: 'ANTBIRD', 33: 'ANTILLEAN EUPHONIA', 34: 'APAPANE', 35: 'APOSTLEBIRD', 36: 'ARARIPE MANAKIN', 37: 'ASHY STORM PETREL', 38: 'ASHY THRUSHBIRD', 39: 'ASIAN CRESTED IBIS', 40: 'ASIAN DOLLARD BIRD', 41: 'ASIAN GREEN BEE EATER', 42: 'ASIAN OPENBILL STORK', 43: 'AUCKLAND SHAQ', 44: 'AUSTRAL CANASTERO', 45: 'AUSTRALASIAN FIGBIRD', 46: 'AVADAVAT', 47: 'AZARAS SPINETAIL', 48: 'AZURE BREASTED PITTA', 49: 'AZURE JAY', 50: 'AZURE TANAGER', 51: 'AZURE TIT', 52: 'BAIKAL TEAL', 53: 'BALD EAGLE', 54: 'BALD IBIS', 55: 'BALI STARLING', 56: 'BALTIMORE ORIOLE', 57: 'BANANAQUIT', 58: 'BAND TAILED GUAN', 59: 'BANDED BROADBILL', 60: 'BANDED PITA', 61: 'BANDED STILT', 62: 'BAR-TAILED GODWIT', 63: 'BARN OWL', 64: 'BARN SWALLOW', 65: 'BARRED PUFFBIRD', 66: 'BARROWS GOLDENEYE', 67: 'BAY-BREASTED WARBLER', 68: 'BEARDED BARBET', 69: 'BEARDED BELLBIRD', 70: 'BEARDED REEDLING', 71: 'BELTED KINGFISHER', 72: 'BIRD OF PARADISE', 73: 'BLACK AND YELLOW BROADBILL', 74: 'BLACK BAZA', 75: 'BLACK BREASTED PUFFBIRD', 76: 'BLACK COCKATO', 77: 'BLACK FACED SPOONBILL', 78: 'BLACK FRANCOLIN', 79: 'BLACK HEADED CAIQUE', 80: 'BLACK NECKED STILT', 81: 'BLACK SKIMMER', 82: 'BLACK SWAN', 83: 'BLACK TAIL CRAKE', 84: 'BLACK THROATED BUSHTIT', 85: 'BLACK THROATED HUET', 86: 'BLACK THROATED WARBLER', 87: 'BLACK VENTED SHEARWATER', 88: 'BLACK VULTURE', 89: 'BLACK-CAPPED CHICKADEE', 90: 'BLACK-NECKED GREBE', 91: 'BLACK-THROATED SPARROW', 92: 'BLACKBURNIAM WARBLER', 93: 'BLONDE CRESTED WOODPECKER', 94: 'BLOOD PHEASANT', 95: 'BLUE COAU', 96: 'BLUE DACNIS', 97: 'BLUE GRAY GNATCATCHER', 98: 'BLUE GROSBEAK', 99: 'BLUE GROUSE', 100: 'BLUE HERON', 101: 'BLUE MALKOHA', 102: 'BLUE THROATED PIPING GUAN', 103: 'BLUE THROATED TOUCANET', 104: 'BOBOLINK', 105: 'BORNEAN BRISTLEHEAD', 106: 'BORNEAN LEAFBIRD', 107: 'BORNEAN PHEASANT', 108: 'BRANDT CORMARANT', 109: 'BREWERS BLACKBIRD', 110: 'BROWN CREPPER', 111: 'BROWN HEADED COWBIRD', 112: 'BROWN NOODY', 113: 'BROWN THRASHER', 114: 'BUFFLEHEAD', 115: 'BULWERS PHEASANT', 116: 'BURCHELLS COURSER', 117: 'BUSH TURKEY', 118: 'CAATINGA CACHOLOTE', 119: 'CABOTS TRAGOPAN', 120: 'CACTUS WREN', 121: 'CALIFORNIA CONDOR', 122: 'CALIFORNIA GULL', 123: 'CALIFORNIA QUAIL', 124: 'CAMPO FLICKER', 125: 'CANARY', 126: 'CANVASBACK', 127: 'CAPE GLOSSY STARLING', 128: 'CAPE LONGCLAW', 129: 'CAPE MAY WARBLER', 130: 'CAPE ROCK THRUSH', 131: 'CAPPED HERON', 132: 'CAPUCHINBIRD', 133: 'CARMINE BEE-EATER', 134: 'CASPIAN TERN', 135: 'CASSOWARY', 136: 'CEDAR WAXWING', 137: 'CERULEAN WARBLER', 138: 'CHARA DE COLLAR', 139: 'CHATTERING LORY', 140: 'CHESTNET BELLIED EUPHONIA', 141: 'CHESTNUT WINGED CUCKOO', 142: 'CHINESE BAMBOO PARTRIDGE', 143: 'CHINESE POND HERON', 144: 'CHIPPING SPARROW', 145: 'CHUCAO TAPACULO', 146: 'CHUKAR PARTRIDGE', 147: 'CINNAMON ATTILA', 148: 'CINNAMON FLYCATCHER', 149: 'CINNAMON TEAL', 150: 'CLARKS GREBE', 151: 'CLARKS NUTCRACKER', 152: 'COCK OF THE  ROCK', 153: 'COCKATOO', 154: 'COLLARED ARACARI', 155: 'COLLARED CRESCENTCHEST', 156: 'COMMON FIRECREST', 157: 'COMMON GRACKLE', 158: 'COMMON HOUSE MARTIN', 159: 'COMMON IORA', 160: 'COMMON LOON', 161: 'COMMON POORWILL', 162: 'COMMON STARLING', 163: 'COPPERSMITH BARBET', 164: 'COPPERY TAILED COUCAL', 165: 'CRAB PLOVER', 166: 'CRANE HAWK', 167: 'CREAM COLORED WOODPECKER', 168: 'CRESTED AUKLET', 169: 'CRESTED CARACARA', 170: 'CRESTED COUA', 171: 'CRESTED FIREBACK', 172: 'CRESTED KINGFISHER', 173: 'CRESTED NUTHATCH', 174: 'CRESTED OROPENDOLA', 175: 'CRESTED SERPENT EAGLE', 176: 'CRESTED SHRIKETIT', 177: 'CRESTED WOOD PARTRIDGE', 178: 'CRIMSON CHAT', 179: 'CRIMSON SUNBIRD', 180: 'CROW', 181: 'CUBAN TODY', 182: 'CUBAN TROGON', 183: 'CURL CRESTED ARACURI', 184: 'D-ARNAUDS BARBET', 185: 'DALMATIAN PELICAN', 186: 'DARJEELING WOODPECKER', 187: 'DARK EYED JUNCO', 188: 'DAURIAN REDSTART', 189: 'DEMOISELLE CRANE', 190: 'DOUBLE BARRED FINCH', 191: 'DOUBLE BRESTED CORMARANT', 192: 'DOUBLE EYED FIG PARROT', 193: 'DOWNY WOODPECKER', 194: 'DUNLIN', 195: 'DUSKY LORY', 196: 'DUSKY ROBIN', 197: 'EARED PITA', 198: 'EASTERN BLUEBIRD', 199: 'EASTERN BLUEBONNET', 200: 'EASTERN GOLDEN WEAVER', 201: 'EASTERN MEADOWLARK', 202: 'EASTERN ROSELLA', 203: 'EASTERN TOWEE', 204: 'EASTERN WIP POOR WILL', 205: 'EASTERN YELLOW ROBIN', 206: 'ECUADORIAN HILLSTAR', 207: 'EGYPTIAN GOOSE', 208: 'ELEGANT TROGON', 209: 'ELLIOTS  PHEASANT', 210: 'EMERALD TANAGER', 211: 'EMPEROR PENGUIN', 212: 'EMU', 213: 'ENGGANO MYNA', 214: 'EURASIAN BULLFINCH', 215: 'EURASIAN GOLDEN ORIOLE', 216: 'EURASIAN MAGPIE', 217: 'EUROPEAN GOLDFINCH', 218: 'EUROPEAN TURTLE DOVE', 219: 'EVENING GROSBEAK', 220: 'FAIRY BLUEBIRD', 221: 'FAIRY PENGUIN', 222: 'FAIRY TERN', 223: 'FAN TAILED WIDOW', 224: 'FASCIATED WREN', 225: 'FIERY MINIVET', 226: 'FIORDLAND PENGUIN', 227: 'FIRE TAILLED MYZORNIS', 228: 'FLAME BOWERBIRD', 229: 'FLAME TANAGER', 230: 'FOREST WAGTAIL', 231: 'FRIGATE', 232: 'FRILL BACK PIGEON', 233: 'GAMBELS QUAIL', 234: 'GANG GANG COCKATOO', 235: 'GILA WOODPECKER', 236: 'GILDED FLICKER', 237: 'GLOSSY IBIS', 238: 'GO AWAY BIRD', 239: 'GOLD WING WARBLER', 240: 'GOLDEN BOWER BIRD', 241: 'GOLDEN CHEEKED WARBLER', 242: 'GOLDEN CHLOROPHONIA', 243: 'GOLDEN EAGLE', 244: 'GOLDEN PARAKEET', 245: 'GOLDEN PHEASANT', 246: 'GOLDEN PIPIT', 247: 'GOULDIAN FINCH', 248: 'GRANDALA', 249: 'GRAY CATBIRD', 250: 'GRAY KINGBIRD', 251: 'GRAY PARTRIDGE', 252: 'GREAT ARGUS', 253: 'GREAT GRAY OWL', 254: 'GREAT JACAMAR', 255: 'GREAT KISKADEE', 256: 'GREAT POTOO', 257: 'GREAT TINAMOU', 258: 'GREAT XENOPS', 259: 'GREATER PEWEE', 260: 'GREATER PRAIRIE CHICKEN', 261: 'GREATOR SAGE GROUSE', 262: 'GREEN BROADBILL', 263: 'GREEN JAY', 264: 'GREEN MAGPIE', 265: 'GREEN WINGED DOVE', 266: 'GREY CUCKOOSHRIKE', 267: 'GREY HEADED CHACHALACA', 268: 'GREY HEADED FISH EAGLE', 269: 'GREY PLOVER', 270: 'GROVED BILLED ANI', 271: 'GUINEA TURACO', 272: 'GUINEAFOWL', 273: 'GURNEYS PITTA', 274: 'GYRFALCON', 275: 'HAMERKOP', 276: 'HARLEQUIN DUCK', 277: 'HARLEQUIN QUAIL', 278: 'HARPY EAGLE', 279: 'HAWAIIAN GOOSE', 280: 'HAWFINCH', 281: 'HELMET VANGA', 282: 'HEPATIC TANAGER', 283: 'HIMALAYAN BLUETAIL', 284: 'HIMALAYAN MONAL', 285: 'HOATZIN', 286: 'HOODED MERGANSER', 287: 'HOOPOES', 288: 'HORNED GUAN', 289: 'HORNED LARK', 290: 'HORNED SUNGEM', 291: 'HOUSE FINCH', 292: 'HOUSE SPARROW', 293: 'HYACINTH MACAW', 294: 'IBERIAN MAGPIE', 295: 'IBISBILL', 296: 'IMPERIAL SHAQ', 297: 'INCA TERN', 298: 'INDIAN BUSTARD', 299: 'INDIAN PITTA', 300: 'INDIAN ROLLER', 301: 'INDIAN VULTURE', 302: 'INDIGO BUNTING', 303: 'INDIGO FLYCATCHER', 304: 'INLAND DOTTEREL', 305: 'IVORY BILLED ARACARI', 306: 'IVORY GULL', 307: 'IWI', 308: 'JABIRU', 309: 'JACK SNIPE', 310: 'JACOBIN PIGEON', 311: 'JANDAYA PARAKEET', 312: 'JAPANESE ROBIN', 313: 'JAVA SPARROW', 314: 'JOCOTOCO ANTPITTA', 315: 'KAGU', 316: 'KAKAPO', 317: 'KILLDEAR', 318: 'KING EIDER', 319: 'KING VULTURE', 320: 'KIWI', 321: 'KNOB BILLED DUCK', 322: 'KOOKABURRA', 323: 'LARK BUNTING', 324: 'LAUGHING GULL', 325: 'LAZULI BUNTING', 326: 'LESSER ADJUTANT', 327: 'LILAC ROLLER', 328: 'LIMPKIN', 329: 'LITTLE AUK', 330: 'LOGGERHEAD SHRIKE', 331: 'LONG-EARED OWL', 332: 'LOONEY BIRDS', 333: 'LUCIFER HUMMINGBIRD', 334: 'MAGPIE GOOSE', 335: 'MALABAR HORNBILL', 336: 'MALACHITE KINGFISHER', 337: 'MALAGASY WHITE EYE', 338: 'MALEO', 339: 'MALLARD DUCK', 340: 'MANDRIN DUCK', 341: 'MANGROVE CUCKOO', 342: 'MARABOU STORK', 343: 'MASKED BOBWHITE', 344: 'MASKED BOOBY', 345: 'MASKED LAPWING', 346: 'MCKAYS BUNTING', 347: 'MERLIN', 348: 'MIKADO  PHEASANT', 349: 'MILITARY MACAW', 350: 'MOURNING DOVE', 351: 'MYNA', 352: 'NICOBAR PIGEON', 353: 'NOISY FRIARBIRD', 354: 'NORTHERN BEARDLESS TYRANNULET', 355: 'NORTHERN CARDINAL', 356: 'NORTHERN FLICKER', 357: 'NORTHERN FULMAR', 358: 'NORTHERN GANNET', 359: 'NORTHERN GOSHAWK', 360: 'NORTHERN JACANA', 361: 'NORTHERN MOCKINGBIRD', 362: 'NORTHERN PARULA', 363: 'NORTHERN RED BISHOP', 364: 'NORTHERN SHOVELER', 365: 'OCELLATED TURKEY', 366: 'OILBIRD', 367: 'OKINAWA RAIL', 368: 'ORANGE BREASTED TROGON', 369: 'ORANGE BRESTED BUNTING', 370: 'ORIENTAL BAY OWL', 371: 'ORNATE HAWK EAGLE', 372: 'OSPREY', 373: 'OSTRICH', 374: 'OVENBIRD', 375: 'OYSTER CATCHER', 376: 'PAINTED BUNTING', 377: 'PALILA', 378: 'PALM NUT VULTURE', 379: 'PARADISE TANAGER', 380: 'PARAKETT  AUKLET', 381: 'PARUS MAJOR', 382: 'PATAGONIAN SIERRA FINCH', 383: 'PEACOCK', 384: 'PEREGRINE FALCON', 385: 'PHAINOPEPLA', 386: 'PHILIPPINE EAGLE', 387: 'PINK ROBIN', 388: 'PLUSH CRESTED JAY', 389: 'POMARINE JAEGER', 390: 'PUFFIN', 391: 'PUNA TEAL', 392: 'PURPLE FINCH', 393: 'PURPLE GALLINULE', 394: 'PURPLE MARTIN', 395: 'PURPLE SWAMPHEN', 396: 'PYGMY KINGFISHER', 397: 'PYRRHULOXIA', 398: 'QUETZAL', 399: 'RAINBOW LORIKEET', 400: 'RAZORBILL', 401: 'RED BEARDED BEE EATER', 402: 'RED BELLIED PITTA', 403: 'RED BILLED TROPICBIRD', 404: 'RED BROWED FINCH', 405: 'RED CROSSBILL', 406: 'RED FACED CORMORANT', 407: 'RED FACED WARBLER', 408: 'RED FODY', 409: 'RED HEADED DUCK', 410: 'RED HEADED WOODPECKER', 411: 'RED KNOT', 412: 'RED LEGGED HONEYCREEPER', 413: 'RED NAPED TROGON', 414: 'RED SHOULDERED HAWK', 415: 'RED TAILED HAWK', 416: 'RED TAILED THRUSH', 417: 'RED WINGED BLACKBIRD', 418: 'RED WISKERED BULBUL', 419: 'REGENT BOWERBIRD', 420: 'RING-NECKED PHEASANT', 421: 'ROADRUNNER', 422: 'ROCK DOVE', 423: 'ROSE BREASTED COCKATOO', 424: 'ROSE BREASTED GROSBEAK', 425: 'ROSEATE SPOONBILL', 426: 'ROSY FACED LOVEBIRD', 427: 'ROUGH LEG BUZZARD', 428: 'ROYAL FLYCATCHER', 429: 'RUBY CROWNED KINGLET', 430: 'RUBY THROATED HUMMINGBIRD', 431: 'RUDDY SHELDUCK', 432: 'RUDY KINGFISHER', 433: 'RUFOUS KINGFISHER', 434: 'RUFOUS TREPE', 435: 'RUFUOS MOTMOT', 436: 'SAMATRAN THRUSH', 437: 'SAND MARTIN', 438: 'SANDHILL CRANE', 439: 'SATYR TRAGOPAN', 440: 'SAYS PHOEBE', 441: 'SCARLET CROWNED FRUIT DOVE', 442: 'SCARLET FACED LIOCICHLA', 443: 'SCARLET IBIS', 444: 'SCARLET MACAW', 445: 'SCARLET TANAGER', 446: 'SHOEBILL', 447: 'SHORT BILLED DOWITCHER', 448: 'SMITHS LONGSPUR', 449: 'SNOW GOOSE', 450: 'SNOW PARTRIDGE', 451: 'SNOWY EGRET', 452: 'SNOWY OWL', 453: 'SNOWY PLOVER', 454: 'SNOWY SHEATHBILL', 455: 'SORA', 456: 'SPANGLED COTINGA', 457: 'SPLENDID WREN', 458: 'SPOON BILED SANDPIPER', 459: 'SPOTTED CATBIRD', 460: 'SPOTTED WHISTLING DUCK', 461: 'SQUACCO HERON', 462: 'SRI LANKA BLUE MAGPIE', 463: 'STEAMER DUCK', 464: 'STORK BILLED KINGFISHER', 465: 'STRIATED CARACARA', 466: 'STRIPED OWL', 467: 'STRIPPED MANAKIN', 468: 'STRIPPED SWALLOW', 469: 'SUNBITTERN', 470: 'SUPERB STARLING', 471: 'SURF SCOTER', 472: 'SWINHOES PHEASANT', 473: 'TAILORBIRD', 474: 'TAIWAN MAGPIE', 475: 'TAKAHE', 476: 'TASMANIAN HEN', 477: 'TAWNY FROGMOUTH', 478: 'TEAL DUCK', 479: 'TIT MOUSE', 480: 'TOUCHAN', 481: 'TOWNSENDS WARBLER', 482: 'TREE SWALLOW', 483: 'TRICOLORED BLACKBIRD', 484: 'TROPICAL KINGBIRD', 485: 'TRUMPTER SWAN', 486: 'TURKEY VULTURE', 487: 'TURQUOISE MOTMOT', 488: 'UMBRELLA BIRD', 489: 'VARIED THRUSH', 490: 'VEERY', 491: 'VENEZUELIAN TROUPIAL', 492: 'VERDIN', 493: 'VERMILION FLYCATHER', 494: 'VICTORIA CROWNED PIGEON', 495: 'VIOLET BACKED STARLING', 496: 'VIOLET CUCKOO', 497: 'VIOLET GREEN SWALLOW', 498: 'VIOLET TURACO', 499: 'VISAYAN HORNBILL', 500: 'VULTURINE GUINEAFOWL', 501: 'WALL CREAPER', 502: 'WATTLED CURASSOW', 503: 'WATTLED LAPWING', 504: 'WHIMBREL', 505: 'WHITE BREASTED WATERHEN', 506: 'WHITE BROWED CRAKE', 507: 'WHITE CHEEKED TURACO', 508: 'WHITE CRESTED HORNBILL', 509: 'WHITE EARED HUMMINGBIRD', 510: 'WHITE NECKED RAVEN', 511: 'WHITE TAILED TROPIC', 512: 'WHITE THROATED BEE EATER', 513: 'WILD TURKEY', 514: 'WILLOW PTARMIGAN', 515: 'WILSONS BIRD OF PARADISE', 516: 'WOOD DUCK', 517: 'WOOD THRUSH', 518: 'WOODLAND KINGFISHER', 519: 'WRENTIT', 520: 'YELLOW BELLIED FLOWERPECKER', 521: 'YELLOW BREASTED CHAT', 522: 'YELLOW CACIQUE', 523: 'YELLOW HEADED BLACKBIRD', 524: 'ZEBRA DOVE'}\n"
          ]
        }
      ],
      "source": [
        "data_dir = '/kaggle/input/100-bird-species/train'\n",
        "target_to_class = {v: k for k, v in ImageFolder(data_dir).class_to_idx.items()}\n",
        "print(target_to_class)"
      ]
    },
    {
      "cell_type": "code",
      "execution_count": null,
      "metadata": {
        "id": "aMpZajnACONC"
      },
      "outputs": [],
      "source": [
        "transform = transforms.Compose([\n",
        "    transforms.Resize((128, 128)),\n",
        "    transforms.ToTensor(),\n",
        "])\n",
        "\n",
        "data_dir = '/kaggle/input/100-bird-species/train'\n",
        "dataset = BirdsDataset(data_dir, transform)"
      ]
    },
    {
      "cell_type": "code",
      "execution_count": null,
      "metadata": {
        "id": "27qUN_VaCONC",
        "colab": {
          "base_uri": "https://localhost:8080/"
        },
        "outputId": "10c31beb-fa5c-45ce-f51d-fb29cc88a54a"
      },
      "outputs": [
        {
          "output_type": "execute_result",
          "data": {
            "text/plain": [
              "torch.Size([3, 128, 128])"
            ]
          },
          "metadata": {},
          "execution_count": 17
        }
      ],
      "source": [
        "image, label = dataset[100]\n",
        "image.shape"
      ]
    },
    {
      "cell_type": "markdown",
      "metadata": {
        "id": "gETwhH8KCONC"
      },
      "source": [
        "# Dataloaders\n",
        "* Batch dataset for faster training\n",
        "* Shuffle = True -> Ensures labels are different and distributed across batches\n"
      ]
    },
    {
      "cell_type": "code",
      "execution_count": null,
      "metadata": {
        "id": "6YtjS1eNCONC"
      },
      "outputs": [],
      "source": [
        "dataloader = DataLoader(dataset, batch_size=32, shuffle=True)"
      ]
    },
    {
      "cell_type": "code",
      "execution_count": null,
      "metadata": {
        "id": "CunGnWlmCONC",
        "colab": {
          "base_uri": "https://localhost:8080/"
        },
        "outputId": "96de1ce6-11ac-4ce9-e993-b10669fe2e12"
      },
      "outputs": [
        {
          "output_type": "execute_result",
          "data": {
            "text/plain": [
              "(torch.Size([32, 3, 128, 128]), torch.Size([32]))"
            ]
          },
          "metadata": {},
          "execution_count": 19
        }
      ],
      "source": [
        "for images, labels in dataloader:\n",
        "    break\n",
        "images.shape, labels.shape"
      ]
    },
    {
      "cell_type": "code",
      "execution_count": null,
      "metadata": {
        "id": "T07s0mPNCONC",
        "colab": {
          "base_uri": "https://localhost:8080/"
        },
        "outputId": "76a02718-6461-453a-f516-dbe915ce4cb8"
      },
      "outputs": [
        {
          "output_type": "execute_result",
          "data": {
            "text/plain": [
              "tensor([304, 313, 333, 349, 325, 123, 277, 132, 508, 401, 411, 342,   8, 512,\n",
              "        162, 264, 405, 289, 397, 439, 222, 501, 334, 267, 412, 369,  49, 254,\n",
              "        449, 253,  56, 305])"
            ]
          },
          "metadata": {},
          "execution_count": 20
        }
      ],
      "source": [
        "labels"
      ]
    },
    {
      "cell_type": "markdown",
      "metadata": {
        "id": "DkY2t-rkCOND"
      },
      "source": [
        "# Pytorch Model\n",
        "* Load base model using timm (EfficientNet)\n",
        "* Apply transfer learning - Remove last layer from base model and connect them to the number of birds classes"
      ]
    },
    {
      "cell_type": "code",
      "execution_count": null,
      "metadata": {
        "id": "pENdcJGkCOND"
      },
      "outputs": [],
      "source": [
        "class SimpleBirdClassifer(nn.Module):\n",
        "    def __init__(self, num_classes=525):\n",
        "        super(SimpleBirdClassifer, self).__init__()\n",
        "        # Where we define all the parts of the model\n",
        "        self.base_model = timm.create_model('efficientnet_b0', pretrained=True)\n",
        "        self.features = nn.Sequential(*list(self.base_model.children())[:-1])\n",
        "\n",
        "        enet_out_size = 1280\n",
        "        # Make a classifier\n",
        "        self.classifier = nn.Sequential(\n",
        "            nn.Flatten(),\n",
        "            nn.Linear(enet_out_size, num_classes)\n",
        "        )\n",
        "\n",
        "    def forward(self, x):\n",
        "        # Connect these parts and return the output\n",
        "        x = self.features(x)\n",
        "        output = self.classifier(x)\n",
        "        return output\n"
      ]
    },
    {
      "cell_type": "code",
      "execution_count": null,
      "metadata": {
        "id": "ldUsSEHYCOND",
        "colab": {
          "base_uri": "https://localhost:8080/"
        },
        "outputId": "486b5138-0030-408f-f7a7-2fcc65273209"
      },
      "outputs": [
        {
          "output_type": "stream",
          "name": "stdout",
          "text": [
            "SimpleBirdClassifer(\n",
            "  (base_model): EfficientNet(\n",
            "    (conv_stem): Conv2d(3, 32, kernel_size=(3, 3), stride=(2, 2), padding=(1, 1), bias=False)\n",
            "    (bn1): BatchNormAct2d(\n",
            "      32, eps=1e-05, momentum=0.1, affine=True, track_running_stats=True\n",
            "      (drop): Identity()\n",
            "      (act): SiLU(inplace=True)\n",
            "    )\n",
            "    (blocks): Sequential(\n",
            "      (0): Sequential(\n",
            "        (0): DepthwiseSeparableConv(\n",
            "          (conv_dw): Conv2d(32, 32, kernel_size=(3, 3), stride=(1, 1), padding=(1, 1), groups=32, bias=Fal\n"
          ]
        }
      ],
      "source": [
        "model = SimpleBirdClassifer(num_classes=525)\n",
        "print(str(model)[:500])"
      ]
    },
    {
      "cell_type": "code",
      "execution_count": null,
      "metadata": {
        "id": "jL7kKUMRCOND",
        "colab": {
          "base_uri": "https://localhost:8080/"
        },
        "outputId": "cce6cec0-0671-4f7e-b986-55fd420bb93f"
      },
      "outputs": [
        {
          "output_type": "execute_result",
          "data": {
            "text/plain": [
              "torch.Size([32, 525])"
            ]
          },
          "metadata": {},
          "execution_count": 43
        }
      ],
      "source": [
        "example_out = model(images)\n",
        "example_out.shape # [batch_size, num_classes]"
      ]
    },
    {
      "cell_type": "markdown",
      "source": [
        "# Training\n",
        "\n",
        "\n",
        "*   Specify Epoch\n",
        "*   Optimizer: Adam\n",
        "*   Loss Function: Cross Entropy\n",
        "\n"
      ],
      "metadata": {
        "id": "2u2Eei7oFu9w"
      }
    },
    {
      "cell_type": "code",
      "source": [
        "criterion = nn.CrossEntropyLoss() # Loss function\n",
        "optimizer = optim.Adam(model.parameters(), lr=0.001) # Optimizer"
      ],
      "metadata": {
        "id": "Bkf1HJhIF58i"
      },
      "execution_count": null,
      "outputs": []
    },
    {
      "cell_type": "code",
      "source": [
        "criterion(example_out, labels)\n",
        "print(example_out.shape, labels.shape)"
      ],
      "metadata": {
        "colab": {
          "base_uri": "https://localhost:8080/"
        },
        "id": "ZF8M0-m4GOYk",
        "outputId": "bc130169-b305-4f45-d254-69be60d91b46"
      },
      "execution_count": null,
      "outputs": [
        {
          "output_type": "stream",
          "name": "stdout",
          "text": [
            "torch.Size([32, 525]) torch.Size([32])\n"
          ]
        }
      ]
    },
    {
      "cell_type": "code",
      "source": [
        "transform = transforms.Compose([\n",
        "    transforms.Resize((128, 128)),\n",
        "    transforms.ToTensor(),\n",
        "])\n",
        "\n",
        "train_folder = '../input/100-bird-species/train/'\n",
        "valid_folder = '../input/100-bird-species/valid/'\n",
        "test_folder = '../input/100-bird-species/test/'\n",
        "\n",
        "train_dataset = BirdsDataset(train_folder, transform=transform)\n",
        "val_dataset = BirdsDataset(valid_folder, transform=transform)\n",
        "test_dataset = BirdsDataset(test_folder, transform=transform)\n",
        "\n",
        "train_loader = DataLoader(train_dataset, batch_size=32, shuffle=True)\n",
        "val_loader = DataLoader(val_dataset, batch_size=32, shuffle=False)\n",
        "test_loader = DataLoader(val_dataset, batch_size=32, shuffle=False)"
      ],
      "metadata": {
        "id": "D9yq9WinGQMU"
      },
      "execution_count": null,
      "outputs": []
    },
    {
      "cell_type": "code",
      "source": [
        "# Simple training loop\n",
        "num_epochs = 5\n",
        "train_losses, val_losses = [], []\n",
        "\n",
        "device = torch.device(\"cuda:0\" if torch.cuda.is_available() else \"cpu\")\n",
        "\n",
        "model = SimpleBirdClassifer(num_classes=525)\n",
        "model.to(device)\n",
        "\n",
        "criterion = nn.CrossEntropyLoss()\n",
        "optimizer = optim.Adam(model.parameters(), lr=0.001)\n",
        "\n",
        "for epoch in range(num_epochs):\n",
        "    # Training phase\n",
        "    model.train()\n",
        "    running_loss = 0.0\n",
        "    for images, labels in tqdm(train_loader, desc='Training loop'):\n",
        "        # Move inputs and labels to the device\n",
        "        images, labels = images.to(device), labels.to(device)\n",
        "\n",
        "        optimizer.zero_grad()\n",
        "        outputs = model(images)\n",
        "        loss = criterion(outputs, labels)\n",
        "        loss.backward()\n",
        "        optimizer.step()\n",
        "        running_loss += loss.item() * labels.size(0)\n",
        "    train_loss = running_loss / len(train_loader.dataset)\n",
        "    train_losses.append(train_loss)\n",
        "\n",
        "    # Validation phase\n",
        "    model.eval()\n",
        "    running_loss = 0.0\n",
        "    with torch.no_grad():\n",
        "        for images, labels in tqdm(val_loader, desc='Validation loop'):\n",
        "            # Move inputs and labels to the device\n",
        "            images, labels = images.to(device), labels.to(device)\n",
        "\n",
        "            outputs = model(images)\n",
        "            loss = criterion(outputs, labels)\n",
        "            running_loss += loss.item() * labels.size(0)\n",
        "    val_loss = running_loss / len(val_loader.dataset)\n",
        "    val_losses.append(val_loss)\n",
        "    print(f\"Epoch {epoch+1}/{num_epochs} - Train loss: {train_loss}, Validation loss: {val_loss}\")\n"
      ],
      "metadata": {
        "colab": {
          "base_uri": "https://localhost:8080/",
          "height": 212,
          "referenced_widgets": [
            "9b8ecf1d16fd4d18ae1a2b383725d9df",
            "4d4b05d7c6234e19823bf58e54d69a2f",
            "2d93eac404504fdea4a87bc957200d4e",
            "402962c27637467a91ae7f602596ce92",
            "28894dd2470d4edf8cc5920688dc1cdc",
            "45dfdff7174445668f2ef226f870f63d",
            "6940aea03041465b8d1968918f29d1f4",
            "8212dab3134f4e5dba77a841854c7eef",
            "aca1be14c7d543cd91b92245966ccc95",
            "89025a10aa534b5aae18537c8b255675",
            "8dff40e96ba94527b3049a21db76037a",
            "6dc190ced6c7489dab28f977f74308a7",
            "3deeb85e51e14c54b68d0c5e5afc7afc",
            "da27f9519b6e4991b570bdb1c6d5be69",
            "e50aa50a905a48d5a1f83712e1f8657b",
            "d6d7c7dd1dcf4751a0dab4c442fcd506",
            "9747c24cff0a4f369cd20bb8c5cdbdbf",
            "8aed3fd23e284a3083f65f9e8e73e799",
            "fa054f28c33a4d67b052cca20502bf02",
            "5dc8b39a3b2944f4857d550dd0d6f551",
            "e1c19223d54d4de08c3522a55c6f958c",
            "84cc3704322b42969f17910c3b59c081",
            "0a4d3e4f23474291b963e490994f338c",
            "80c479396e984820863e5d866893dd21",
            "f7e74bd75dc34995a876f2d8620d48e2",
            "3f3f6c6c63a74ae4bfc2eb62022d2e6e",
            "ab3c7ad88fee40a485e4c8aebbd334e2",
            "500b766495004ebf8e6686042b0f0da9",
            "2b8f2ac817e045b78e468530d459255b",
            "c3e2ca283ba943e8bf08003bb2c12130",
            "4607200952cb4401a8ad9b7a2f388f4b",
            "b8a97f060bb747d8a877d8bc6eca2792",
            "32e3525185654d4fb543d432643a6740",
            "352830300bbd40bea8e2e14e164858d8",
            "c4ffed5dec634d1193b07abfc47f4267",
            "625762f2d2f6433d9a75a1f26342e128",
            "133d7a6693824af09d83b43ed01220f3",
            "d8703f4721f5472cbd1bb93026476fdf",
            "eb2234d0d3e24c4184f3ac19655aff78",
            "4fa7f257586b47618b33f81202553505",
            "076f9f7b817947d9beb2e53d02db669e",
            "f9997be313a84d5d8d3bb3cebd136d8c",
            "849e6b9d95c34fd8b13220931a78e08e",
            "e4a2d599f26c4076a19c01e0c054e80a",
            "a640fea892384a69bf4d6c5a7cee6b37",
            "d30909e7993743d4b6faf85bacb3483c",
            "45599e7fed374aacb4f27bf45253264e",
            "04639d99d6264b639fdfb2bf0491b362",
            "583ec58ea7d64ff0a64ce436003d72e2",
            "6316efdf24554f6bb612ece79861de13",
            "28930aad5c594432b1f7131f7885ccb7",
            "92469fc971124fadaf257ecaf19909a2",
            "3d2c294276b24b05bcd36315981b4f01",
            "aea94e10768d4e6aadebceb4a91d8dac",
            "e3561162fdb245c9ae005996947b2a0c"
          ]
        },
        "id": "jWIfeKpDGjw6",
        "outputId": "09d1d37d-6de3-4c2b-9924-3646e514a86e"
      },
      "execution_count": null,
      "outputs": [
        {
          "data": {
            "application/vnd.jupyter.widget-view+json": {
              "model_id": "9b8ecf1d16fd4d18ae1a2b383725d9df",
              "version_major": 2,
              "version_minor": 0
            },
            "text/plain": [
              "Training loop:   0%|          | 0/2645 [00:00<?, ?it/s]"
            ]
          },
          "metadata": {},
          "output_type": "display_data"
        },
        {
          "data": {
            "application/vnd.jupyter.widget-view+json": {
              "model_id": "6dc190ced6c7489dab28f977f74308a7",
              "version_major": 2,
              "version_minor": 0
            },
            "text/plain": [
              "Validation loop:   0%|          | 0/83 [00:00<?, ?it/s]"
            ]
          },
          "metadata": {},
          "output_type": "display_data"
        },
        {
          "metadata": {
            "tags": null
          },
          "name": "stdout",
          "output_type": "stream",
          "text": [
            "Epoch 1/5 - Train loss: 1.2799316858353713, Validation loss: 0.3863859660511925\n"
          ]
        },
        {
          "data": {
            "application/vnd.jupyter.widget-view+json": {
              "model_id": "0a4d3e4f23474291b963e490994f338c",
              "version_major": 2,
              "version_minor": 0
            },
            "text/plain": [
              "Training loop:   0%|          | 0/2645 [00:00<?, ?it/s]"
            ]
          },
          "metadata": {},
          "output_type": "display_data"
        },
        {
          "data": {
            "application/vnd.jupyter.widget-view+json": {
              "model_id": "352830300bbd40bea8e2e14e164858d8",
              "version_major": 2,
              "version_minor": 0
            },
            "text/plain": [
              "Validation loop:   0%|          | 0/83 [00:00<?, ?it/s]"
            ]
          },
          "metadata": {},
          "output_type": "display_data"
        },
        {
          "metadata": {
            "tags": null
          },
          "name": "stdout",
          "output_type": "stream",
          "text": [
            "Epoch 2/5 - Train loss: 0.46703904677375446, Validation loss: 0.2830094298408145\n"
          ]
        },
        {
          "data": {
            "application/vnd.jupyter.widget-view+json": {
              "model_id": "a640fea892384a69bf4d6c5a7cee6b37",
              "version_major": 2,
              "version_minor": 0
            },
            "text/plain": [
              "Training loop:   0%|          | 0/2645 [00:00<?, ?it/s]"
            ]
          },
          "metadata": {},
          "output_type": "display_data"
        }
      ]
    },
    {
      "cell_type": "code",
      "source": [
        "plt.plot(train_losses, label='Training loss')\n",
        "plt.plot(val_losses, label='Validation loss')\n",
        "plt.legend()\n",
        "plt.title(\"Loss over epochs\")\n",
        "plt.show()"
      ],
      "metadata": {
        "id": "AFXWlV-8GtEp"
      },
      "execution_count": null,
      "outputs": []
    },
    {
      "cell_type": "code",
      "source": [
        "import torch\n",
        "import torchvision.transforms as transforms\n",
        "from PIL import Image\n",
        "import matplotlib.pyplot as plt\n",
        "import numpy as np\n",
        "\n",
        "# Load and preprocess the image\n",
        "def preprocess_image(image_path, transform):\n",
        "    image = Image.open(image_path).convert(\"RGB\")\n",
        "    return image, transform(image).unsqueeze(0)\n",
        "\n",
        "# Predict using the model\n",
        "def predict(model, image_tensor, device):\n",
        "    model.eval()\n",
        "    with torch.no_grad():\n",
        "        image_tensor = image_tensor.to(device)\n",
        "        outputs = model(image_tensor)\n",
        "        probabilities = torch.nn.functional.softmax(outputs, dim=1)\n",
        "    return probabilities.cpu().numpy().flatten()\n",
        "\n",
        "# Visualization\n",
        "def visualize_predictions(original_image, probabilities, class_names):\n",
        "    fig, axarr = plt.subplots(1, 2, figsize=(14, 7))\n",
        "\n",
        "    # Display image\n",
        "    axarr[0].imshow(original_image)\n",
        "    axarr[0].axis(\"off\")\n",
        "\n",
        "    # Display predictions\n",
        "    axarr[1].barh(class_names, probabilities)\n",
        "    axarr[1].set_xlabel(\"Probability\")\n",
        "    axarr[1].set_title(\"Class Predictions\")\n",
        "    axarr[1].set_xlim(0, 1)\n",
        "\n",
        "    plt.tight_layout()\n",
        "    plt.show()\n",
        "\n",
        "# Example usage\n",
        "test_image = \"/kaggle/input/100-bird-species/test/ABBOTTS BABBLER/2.jpg\"\n",
        "transform = transforms.Compose([\n",
        "    transforms.Resize((128, 128)),\n",
        "    transforms.ToTensor()\n",
        "])\n",
        "\n",
        "original_image, image_tensor = preprocess_image(test_image, transform)\n",
        "probabilities = predict(model, image_tensor, device)\n",
        "\n",
        "# Assuming dataset.classes gives the class names\n",
        "class_names = dataset.classes\n",
        "visualize_predictions(original_image, probabilities, class_names)"
      ],
      "metadata": {
        "id": "HGddGQ37JsPl"
      },
      "execution_count": null,
      "outputs": []
    },
    {
      "cell_type": "code",
      "source": [],
      "metadata": {
        "id": "zLjK99BoKM7V"
      },
      "execution_count": null,
      "outputs": []
    }
  ],
  "metadata": {
    "accelerator": "TPU",
    "colab": {
      "provenance": [],
      "include_colab_link": true
    },
    "kaggle": {
      "accelerator": "none",
      "dataSources": [
        {
          "datasetId": 534640,
          "sourceId": 5468571,
          "sourceType": "datasetVersion"
        }
      ],
      "dockerImageVersionId": 30646,
      "isGpuEnabled": false,
      "isInternetEnabled": false,
      "language": "python",
      "sourceType": "notebook"
    },
    "kernelspec": {
      "display_name": "Python 3",
      "name": "python3"
    },
    "language_info": {
      "codemirror_mode": {
        "name": "ipython",
        "version": 3
      },
      "file_extension": ".py",
      "mimetype": "text/x-python",
      "name": "python",
      "nbconvert_exporter": "python",
      "pygments_lexer": "ipython3",
      "version": "3.10.13"
    },
    "widgets": {
      "application/vnd.jupyter.widget-state+json": {
        "9b8ecf1d16fd4d18ae1a2b383725d9df": {
          "model_module": "@jupyter-widgets/controls",
          "model_name": "HBoxModel",
          "model_module_version": "1.5.0",
          "state": {
            "_dom_classes": [],
            "_model_module": "@jupyter-widgets/controls",
            "_model_module_version": "1.5.0",
            "_model_name": "HBoxModel",
            "_view_count": null,
            "_view_module": "@jupyter-widgets/controls",
            "_view_module_version": "1.5.0",
            "_view_name": "HBoxView",
            "box_style": "",
            "children": [
              "IPY_MODEL_4d4b05d7c6234e19823bf58e54d69a2f",
              "IPY_MODEL_2d93eac404504fdea4a87bc957200d4e",
              "IPY_MODEL_402962c27637467a91ae7f602596ce92"
            ],
            "layout": "IPY_MODEL_28894dd2470d4edf8cc5920688dc1cdc"
          }
        },
        "4d4b05d7c6234e19823bf58e54d69a2f": {
          "model_module": "@jupyter-widgets/controls",
          "model_name": "HTMLModel",
          "model_module_version": "1.5.0",
          "state": {
            "_dom_classes": [],
            "_model_module": "@jupyter-widgets/controls",
            "_model_module_version": "1.5.0",
            "_model_name": "HTMLModel",
            "_view_count": null,
            "_view_module": "@jupyter-widgets/controls",
            "_view_module_version": "1.5.0",
            "_view_name": "HTMLView",
            "description": "",
            "description_tooltip": null,
            "layout": "IPY_MODEL_45dfdff7174445668f2ef226f870f63d",
            "placeholder": "​",
            "style": "IPY_MODEL_6940aea03041465b8d1968918f29d1f4",
            "value": "Training loop: 100%"
          }
        },
        "2d93eac404504fdea4a87bc957200d4e": {
          "model_module": "@jupyter-widgets/controls",
          "model_name": "FloatProgressModel",
          "model_module_version": "1.5.0",
          "state": {
            "_dom_classes": [],
            "_model_module": "@jupyter-widgets/controls",
            "_model_module_version": "1.5.0",
            "_model_name": "FloatProgressModel",
            "_view_count": null,
            "_view_module": "@jupyter-widgets/controls",
            "_view_module_version": "1.5.0",
            "_view_name": "ProgressView",
            "bar_style": "success",
            "description": "",
            "description_tooltip": null,
            "layout": "IPY_MODEL_8212dab3134f4e5dba77a841854c7eef",
            "max": 2645,
            "min": 0,
            "orientation": "horizontal",
            "style": "IPY_MODEL_aca1be14c7d543cd91b92245966ccc95",
            "value": 2645
          }
        },
        "402962c27637467a91ae7f602596ce92": {
          "model_module": "@jupyter-widgets/controls",
          "model_name": "HTMLModel",
          "model_module_version": "1.5.0",
          "state": {
            "_dom_classes": [],
            "_model_module": "@jupyter-widgets/controls",
            "_model_module_version": "1.5.0",
            "_model_name": "HTMLModel",
            "_view_count": null,
            "_view_module": "@jupyter-widgets/controls",
            "_view_module_version": "1.5.0",
            "_view_name": "HTMLView",
            "description": "",
            "description_tooltip": null,
            "layout": "IPY_MODEL_89025a10aa534b5aae18537c8b255675",
            "placeholder": "​",
            "style": "IPY_MODEL_8dff40e96ba94527b3049a21db76037a",
            "value": " 2645/2645 [2:22:47&lt;00:00,  3.09s/it]"
          }
        },
        "28894dd2470d4edf8cc5920688dc1cdc": {
          "model_module": "@jupyter-widgets/base",
          "model_name": "LayoutModel",
          "model_module_version": "1.2.0",
          "state": {
            "_model_module": "@jupyter-widgets/base",
            "_model_module_version": "1.2.0",
            "_model_name": "LayoutModel",
            "_view_count": null,
            "_view_module": "@jupyter-widgets/base",
            "_view_module_version": "1.2.0",
            "_view_name": "LayoutView",
            "align_content": null,
            "align_items": null,
            "align_self": null,
            "border": null,
            "bottom": null,
            "display": null,
            "flex": null,
            "flex_flow": null,
            "grid_area": null,
            "grid_auto_columns": null,
            "grid_auto_flow": null,
            "grid_auto_rows": null,
            "grid_column": null,
            "grid_gap": null,
            "grid_row": null,
            "grid_template_areas": null,
            "grid_template_columns": null,
            "grid_template_rows": null,
            "height": null,
            "justify_content": null,
            "justify_items": null,
            "left": null,
            "margin": null,
            "max_height": null,
            "max_width": null,
            "min_height": null,
            "min_width": null,
            "object_fit": null,
            "object_position": null,
            "order": null,
            "overflow": null,
            "overflow_x": null,
            "overflow_y": null,
            "padding": null,
            "right": null,
            "top": null,
            "visibility": null,
            "width": null
          }
        },
        "45dfdff7174445668f2ef226f870f63d": {
          "model_module": "@jupyter-widgets/base",
          "model_name": "LayoutModel",
          "model_module_version": "1.2.0",
          "state": {
            "_model_module": "@jupyter-widgets/base",
            "_model_module_version": "1.2.0",
            "_model_name": "LayoutModel",
            "_view_count": null,
            "_view_module": "@jupyter-widgets/base",
            "_view_module_version": "1.2.0",
            "_view_name": "LayoutView",
            "align_content": null,
            "align_items": null,
            "align_self": null,
            "border": null,
            "bottom": null,
            "display": null,
            "flex": null,
            "flex_flow": null,
            "grid_area": null,
            "grid_auto_columns": null,
            "grid_auto_flow": null,
            "grid_auto_rows": null,
            "grid_column": null,
            "grid_gap": null,
            "grid_row": null,
            "grid_template_areas": null,
            "grid_template_columns": null,
            "grid_template_rows": null,
            "height": null,
            "justify_content": null,
            "justify_items": null,
            "left": null,
            "margin": null,
            "max_height": null,
            "max_width": null,
            "min_height": null,
            "min_width": null,
            "object_fit": null,
            "object_position": null,
            "order": null,
            "overflow": null,
            "overflow_x": null,
            "overflow_y": null,
            "padding": null,
            "right": null,
            "top": null,
            "visibility": null,
            "width": null
          }
        },
        "6940aea03041465b8d1968918f29d1f4": {
          "model_module": "@jupyter-widgets/controls",
          "model_name": "DescriptionStyleModel",
          "model_module_version": "1.5.0",
          "state": {
            "_model_module": "@jupyter-widgets/controls",
            "_model_module_version": "1.5.0",
            "_model_name": "DescriptionStyleModel",
            "_view_count": null,
            "_view_module": "@jupyter-widgets/base",
            "_view_module_version": "1.2.0",
            "_view_name": "StyleView",
            "description_width": ""
          }
        },
        "8212dab3134f4e5dba77a841854c7eef": {
          "model_module": "@jupyter-widgets/base",
          "model_name": "LayoutModel",
          "model_module_version": "1.2.0",
          "state": {
            "_model_module": "@jupyter-widgets/base",
            "_model_module_version": "1.2.0",
            "_model_name": "LayoutModel",
            "_view_count": null,
            "_view_module": "@jupyter-widgets/base",
            "_view_module_version": "1.2.0",
            "_view_name": "LayoutView",
            "align_content": null,
            "align_items": null,
            "align_self": null,
            "border": null,
            "bottom": null,
            "display": null,
            "flex": null,
            "flex_flow": null,
            "grid_area": null,
            "grid_auto_columns": null,
            "grid_auto_flow": null,
            "grid_auto_rows": null,
            "grid_column": null,
            "grid_gap": null,
            "grid_row": null,
            "grid_template_areas": null,
            "grid_template_columns": null,
            "grid_template_rows": null,
            "height": null,
            "justify_content": null,
            "justify_items": null,
            "left": null,
            "margin": null,
            "max_height": null,
            "max_width": null,
            "min_height": null,
            "min_width": null,
            "object_fit": null,
            "object_position": null,
            "order": null,
            "overflow": null,
            "overflow_x": null,
            "overflow_y": null,
            "padding": null,
            "right": null,
            "top": null,
            "visibility": null,
            "width": null
          }
        },
        "aca1be14c7d543cd91b92245966ccc95": {
          "model_module": "@jupyter-widgets/controls",
          "model_name": "ProgressStyleModel",
          "model_module_version": "1.5.0",
          "state": {
            "_model_module": "@jupyter-widgets/controls",
            "_model_module_version": "1.5.0",
            "_model_name": "ProgressStyleModel",
            "_view_count": null,
            "_view_module": "@jupyter-widgets/base",
            "_view_module_version": "1.2.0",
            "_view_name": "StyleView",
            "bar_color": null,
            "description_width": ""
          }
        },
        "89025a10aa534b5aae18537c8b255675": {
          "model_module": "@jupyter-widgets/base",
          "model_name": "LayoutModel",
          "model_module_version": "1.2.0",
          "state": {
            "_model_module": "@jupyter-widgets/base",
            "_model_module_version": "1.2.0",
            "_model_name": "LayoutModel",
            "_view_count": null,
            "_view_module": "@jupyter-widgets/base",
            "_view_module_version": "1.2.0",
            "_view_name": "LayoutView",
            "align_content": null,
            "align_items": null,
            "align_self": null,
            "border": null,
            "bottom": null,
            "display": null,
            "flex": null,
            "flex_flow": null,
            "grid_area": null,
            "grid_auto_columns": null,
            "grid_auto_flow": null,
            "grid_auto_rows": null,
            "grid_column": null,
            "grid_gap": null,
            "grid_row": null,
            "grid_template_areas": null,
            "grid_template_columns": null,
            "grid_template_rows": null,
            "height": null,
            "justify_content": null,
            "justify_items": null,
            "left": null,
            "margin": null,
            "max_height": null,
            "max_width": null,
            "min_height": null,
            "min_width": null,
            "object_fit": null,
            "object_position": null,
            "order": null,
            "overflow": null,
            "overflow_x": null,
            "overflow_y": null,
            "padding": null,
            "right": null,
            "top": null,
            "visibility": null,
            "width": null
          }
        },
        "8dff40e96ba94527b3049a21db76037a": {
          "model_module": "@jupyter-widgets/controls",
          "model_name": "DescriptionStyleModel",
          "model_module_version": "1.5.0",
          "state": {
            "_model_module": "@jupyter-widgets/controls",
            "_model_module_version": "1.5.0",
            "_model_name": "DescriptionStyleModel",
            "_view_count": null,
            "_view_module": "@jupyter-widgets/base",
            "_view_module_version": "1.2.0",
            "_view_name": "StyleView",
            "description_width": ""
          }
        },
        "6dc190ced6c7489dab28f977f74308a7": {
          "model_module": "@jupyter-widgets/controls",
          "model_name": "HBoxModel",
          "model_module_version": "1.5.0",
          "state": {
            "_dom_classes": [],
            "_model_module": "@jupyter-widgets/controls",
            "_model_module_version": "1.5.0",
            "_model_name": "HBoxModel",
            "_view_count": null,
            "_view_module": "@jupyter-widgets/controls",
            "_view_module_version": "1.5.0",
            "_view_name": "HBoxView",
            "box_style": "",
            "children": [
              "IPY_MODEL_3deeb85e51e14c54b68d0c5e5afc7afc",
              "IPY_MODEL_da27f9519b6e4991b570bdb1c6d5be69",
              "IPY_MODEL_e50aa50a905a48d5a1f83712e1f8657b"
            ],
            "layout": "IPY_MODEL_d6d7c7dd1dcf4751a0dab4c442fcd506"
          }
        },
        "3deeb85e51e14c54b68d0c5e5afc7afc": {
          "model_module": "@jupyter-widgets/controls",
          "model_name": "HTMLModel",
          "model_module_version": "1.5.0",
          "state": {
            "_dom_classes": [],
            "_model_module": "@jupyter-widgets/controls",
            "_model_module_version": "1.5.0",
            "_model_name": "HTMLModel",
            "_view_count": null,
            "_view_module": "@jupyter-widgets/controls",
            "_view_module_version": "1.5.0",
            "_view_name": "HTMLView",
            "description": "",
            "description_tooltip": null,
            "layout": "IPY_MODEL_9747c24cff0a4f369cd20bb8c5cdbdbf",
            "placeholder": "​",
            "style": "IPY_MODEL_8aed3fd23e284a3083f65f9e8e73e799",
            "value": "Validation loop: 100%"
          }
        },
        "da27f9519b6e4991b570bdb1c6d5be69": {
          "model_module": "@jupyter-widgets/controls",
          "model_name": "FloatProgressModel",
          "model_module_version": "1.5.0",
          "state": {
            "_dom_classes": [],
            "_model_module": "@jupyter-widgets/controls",
            "_model_module_version": "1.5.0",
            "_model_name": "FloatProgressModel",
            "_view_count": null,
            "_view_module": "@jupyter-widgets/controls",
            "_view_module_version": "1.5.0",
            "_view_name": "ProgressView",
            "bar_style": "success",
            "description": "",
            "description_tooltip": null,
            "layout": "IPY_MODEL_fa054f28c33a4d67b052cca20502bf02",
            "max": 83,
            "min": 0,
            "orientation": "horizontal",
            "style": "IPY_MODEL_5dc8b39a3b2944f4857d550dd0d6f551",
            "value": 83
          }
        },
        "e50aa50a905a48d5a1f83712e1f8657b": {
          "model_module": "@jupyter-widgets/controls",
          "model_name": "HTMLModel",
          "model_module_version": "1.5.0",
          "state": {
            "_dom_classes": [],
            "_model_module": "@jupyter-widgets/controls",
            "_model_module_version": "1.5.0",
            "_model_name": "HTMLModel",
            "_view_count": null,
            "_view_module": "@jupyter-widgets/controls",
            "_view_module_version": "1.5.0",
            "_view_name": "HTMLView",
            "description": "",
            "description_tooltip": null,
            "layout": "IPY_MODEL_e1c19223d54d4de08c3522a55c6f958c",
            "placeholder": "​",
            "style": "IPY_MODEL_84cc3704322b42969f17910c3b59c081",
            "value": " 83/83 [00:46&lt;00:00,  1.61it/s]"
          }
        },
        "d6d7c7dd1dcf4751a0dab4c442fcd506": {
          "model_module": "@jupyter-widgets/base",
          "model_name": "LayoutModel",
          "model_module_version": "1.2.0",
          "state": {
            "_model_module": "@jupyter-widgets/base",
            "_model_module_version": "1.2.0",
            "_model_name": "LayoutModel",
            "_view_count": null,
            "_view_module": "@jupyter-widgets/base",
            "_view_module_version": "1.2.0",
            "_view_name": "LayoutView",
            "align_content": null,
            "align_items": null,
            "align_self": null,
            "border": null,
            "bottom": null,
            "display": null,
            "flex": null,
            "flex_flow": null,
            "grid_area": null,
            "grid_auto_columns": null,
            "grid_auto_flow": null,
            "grid_auto_rows": null,
            "grid_column": null,
            "grid_gap": null,
            "grid_row": null,
            "grid_template_areas": null,
            "grid_template_columns": null,
            "grid_template_rows": null,
            "height": null,
            "justify_content": null,
            "justify_items": null,
            "left": null,
            "margin": null,
            "max_height": null,
            "max_width": null,
            "min_height": null,
            "min_width": null,
            "object_fit": null,
            "object_position": null,
            "order": null,
            "overflow": null,
            "overflow_x": null,
            "overflow_y": null,
            "padding": null,
            "right": null,
            "top": null,
            "visibility": null,
            "width": null
          }
        },
        "9747c24cff0a4f369cd20bb8c5cdbdbf": {
          "model_module": "@jupyter-widgets/base",
          "model_name": "LayoutModel",
          "model_module_version": "1.2.0",
          "state": {
            "_model_module": "@jupyter-widgets/base",
            "_model_module_version": "1.2.0",
            "_model_name": "LayoutModel",
            "_view_count": null,
            "_view_module": "@jupyter-widgets/base",
            "_view_module_version": "1.2.0",
            "_view_name": "LayoutView",
            "align_content": null,
            "align_items": null,
            "align_self": null,
            "border": null,
            "bottom": null,
            "display": null,
            "flex": null,
            "flex_flow": null,
            "grid_area": null,
            "grid_auto_columns": null,
            "grid_auto_flow": null,
            "grid_auto_rows": null,
            "grid_column": null,
            "grid_gap": null,
            "grid_row": null,
            "grid_template_areas": null,
            "grid_template_columns": null,
            "grid_template_rows": null,
            "height": null,
            "justify_content": null,
            "justify_items": null,
            "left": null,
            "margin": null,
            "max_height": null,
            "max_width": null,
            "min_height": null,
            "min_width": null,
            "object_fit": null,
            "object_position": null,
            "order": null,
            "overflow": null,
            "overflow_x": null,
            "overflow_y": null,
            "padding": null,
            "right": null,
            "top": null,
            "visibility": null,
            "width": null
          }
        },
        "8aed3fd23e284a3083f65f9e8e73e799": {
          "model_module": "@jupyter-widgets/controls",
          "model_name": "DescriptionStyleModel",
          "model_module_version": "1.5.0",
          "state": {
            "_model_module": "@jupyter-widgets/controls",
            "_model_module_version": "1.5.0",
            "_model_name": "DescriptionStyleModel",
            "_view_count": null,
            "_view_module": "@jupyter-widgets/base",
            "_view_module_version": "1.2.0",
            "_view_name": "StyleView",
            "description_width": ""
          }
        },
        "fa054f28c33a4d67b052cca20502bf02": {
          "model_module": "@jupyter-widgets/base",
          "model_name": "LayoutModel",
          "model_module_version": "1.2.0",
          "state": {
            "_model_module": "@jupyter-widgets/base",
            "_model_module_version": "1.2.0",
            "_model_name": "LayoutModel",
            "_view_count": null,
            "_view_module": "@jupyter-widgets/base",
            "_view_module_version": "1.2.0",
            "_view_name": "LayoutView",
            "align_content": null,
            "align_items": null,
            "align_self": null,
            "border": null,
            "bottom": null,
            "display": null,
            "flex": null,
            "flex_flow": null,
            "grid_area": null,
            "grid_auto_columns": null,
            "grid_auto_flow": null,
            "grid_auto_rows": null,
            "grid_column": null,
            "grid_gap": null,
            "grid_row": null,
            "grid_template_areas": null,
            "grid_template_columns": null,
            "grid_template_rows": null,
            "height": null,
            "justify_content": null,
            "justify_items": null,
            "left": null,
            "margin": null,
            "max_height": null,
            "max_width": null,
            "min_height": null,
            "min_width": null,
            "object_fit": null,
            "object_position": null,
            "order": null,
            "overflow": null,
            "overflow_x": null,
            "overflow_y": null,
            "padding": null,
            "right": null,
            "top": null,
            "visibility": null,
            "width": null
          }
        },
        "5dc8b39a3b2944f4857d550dd0d6f551": {
          "model_module": "@jupyter-widgets/controls",
          "model_name": "ProgressStyleModel",
          "model_module_version": "1.5.0",
          "state": {
            "_model_module": "@jupyter-widgets/controls",
            "_model_module_version": "1.5.0",
            "_model_name": "ProgressStyleModel",
            "_view_count": null,
            "_view_module": "@jupyter-widgets/base",
            "_view_module_version": "1.2.0",
            "_view_name": "StyleView",
            "bar_color": null,
            "description_width": ""
          }
        },
        "e1c19223d54d4de08c3522a55c6f958c": {
          "model_module": "@jupyter-widgets/base",
          "model_name": "LayoutModel",
          "model_module_version": "1.2.0",
          "state": {
            "_model_module": "@jupyter-widgets/base",
            "_model_module_version": "1.2.0",
            "_model_name": "LayoutModel",
            "_view_count": null,
            "_view_module": "@jupyter-widgets/base",
            "_view_module_version": "1.2.0",
            "_view_name": "LayoutView",
            "align_content": null,
            "align_items": null,
            "align_self": null,
            "border": null,
            "bottom": null,
            "display": null,
            "flex": null,
            "flex_flow": null,
            "grid_area": null,
            "grid_auto_columns": null,
            "grid_auto_flow": null,
            "grid_auto_rows": null,
            "grid_column": null,
            "grid_gap": null,
            "grid_row": null,
            "grid_template_areas": null,
            "grid_template_columns": null,
            "grid_template_rows": null,
            "height": null,
            "justify_content": null,
            "justify_items": null,
            "left": null,
            "margin": null,
            "max_height": null,
            "max_width": null,
            "min_height": null,
            "min_width": null,
            "object_fit": null,
            "object_position": null,
            "order": null,
            "overflow": null,
            "overflow_x": null,
            "overflow_y": null,
            "padding": null,
            "right": null,
            "top": null,
            "visibility": null,
            "width": null
          }
        },
        "84cc3704322b42969f17910c3b59c081": {
          "model_module": "@jupyter-widgets/controls",
          "model_name": "DescriptionStyleModel",
          "model_module_version": "1.5.0",
          "state": {
            "_model_module": "@jupyter-widgets/controls",
            "_model_module_version": "1.5.0",
            "_model_name": "DescriptionStyleModel",
            "_view_count": null,
            "_view_module": "@jupyter-widgets/base",
            "_view_module_version": "1.2.0",
            "_view_name": "StyleView",
            "description_width": ""
          }
        },
        "0a4d3e4f23474291b963e490994f338c": {
          "model_module": "@jupyter-widgets/controls",
          "model_name": "HBoxModel",
          "model_module_version": "1.5.0",
          "state": {
            "_dom_classes": [],
            "_model_module": "@jupyter-widgets/controls",
            "_model_module_version": "1.5.0",
            "_model_name": "HBoxModel",
            "_view_count": null,
            "_view_module": "@jupyter-widgets/controls",
            "_view_module_version": "1.5.0",
            "_view_name": "HBoxView",
            "box_style": "",
            "children": [
              "IPY_MODEL_80c479396e984820863e5d866893dd21",
              "IPY_MODEL_f7e74bd75dc34995a876f2d8620d48e2",
              "IPY_MODEL_3f3f6c6c63a74ae4bfc2eb62022d2e6e"
            ],
            "layout": "IPY_MODEL_ab3c7ad88fee40a485e4c8aebbd334e2"
          }
        },
        "80c479396e984820863e5d866893dd21": {
          "model_module": "@jupyter-widgets/controls",
          "model_name": "HTMLModel",
          "model_module_version": "1.5.0",
          "state": {
            "_dom_classes": [],
            "_model_module": "@jupyter-widgets/controls",
            "_model_module_version": "1.5.0",
            "_model_name": "HTMLModel",
            "_view_count": null,
            "_view_module": "@jupyter-widgets/controls",
            "_view_module_version": "1.5.0",
            "_view_name": "HTMLView",
            "description": "",
            "description_tooltip": null,
            "layout": "IPY_MODEL_500b766495004ebf8e6686042b0f0da9",
            "placeholder": "​",
            "style": "IPY_MODEL_2b8f2ac817e045b78e468530d459255b",
            "value": "Training loop: 100%"
          }
        },
        "f7e74bd75dc34995a876f2d8620d48e2": {
          "model_module": "@jupyter-widgets/controls",
          "model_name": "FloatProgressModel",
          "model_module_version": "1.5.0",
          "state": {
            "_dom_classes": [],
            "_model_module": "@jupyter-widgets/controls",
            "_model_module_version": "1.5.0",
            "_model_name": "FloatProgressModel",
            "_view_count": null,
            "_view_module": "@jupyter-widgets/controls",
            "_view_module_version": "1.5.0",
            "_view_name": "ProgressView",
            "bar_style": "success",
            "description": "",
            "description_tooltip": null,
            "layout": "IPY_MODEL_c3e2ca283ba943e8bf08003bb2c12130",
            "max": 2645,
            "min": 0,
            "orientation": "horizontal",
            "style": "IPY_MODEL_4607200952cb4401a8ad9b7a2f388f4b",
            "value": 2645
          }
        },
        "3f3f6c6c63a74ae4bfc2eb62022d2e6e": {
          "model_module": "@jupyter-widgets/controls",
          "model_name": "HTMLModel",
          "model_module_version": "1.5.0",
          "state": {
            "_dom_classes": [],
            "_model_module": "@jupyter-widgets/controls",
            "_model_module_version": "1.5.0",
            "_model_name": "HTMLModel",
            "_view_count": null,
            "_view_module": "@jupyter-widgets/controls",
            "_view_module_version": "1.5.0",
            "_view_name": "HTMLView",
            "description": "",
            "description_tooltip": null,
            "layout": "IPY_MODEL_b8a97f060bb747d8a877d8bc6eca2792",
            "placeholder": "​",
            "style": "IPY_MODEL_32e3525185654d4fb543d432643a6740",
            "value": " 2645/2645 [2:32:36&lt;00:00,  3.32s/it]"
          }
        },
        "ab3c7ad88fee40a485e4c8aebbd334e2": {
          "model_module": "@jupyter-widgets/base",
          "model_name": "LayoutModel",
          "model_module_version": "1.2.0",
          "state": {
            "_model_module": "@jupyter-widgets/base",
            "_model_module_version": "1.2.0",
            "_model_name": "LayoutModel",
            "_view_count": null,
            "_view_module": "@jupyter-widgets/base",
            "_view_module_version": "1.2.0",
            "_view_name": "LayoutView",
            "align_content": null,
            "align_items": null,
            "align_self": null,
            "border": null,
            "bottom": null,
            "display": null,
            "flex": null,
            "flex_flow": null,
            "grid_area": null,
            "grid_auto_columns": null,
            "grid_auto_flow": null,
            "grid_auto_rows": null,
            "grid_column": null,
            "grid_gap": null,
            "grid_row": null,
            "grid_template_areas": null,
            "grid_template_columns": null,
            "grid_template_rows": null,
            "height": null,
            "justify_content": null,
            "justify_items": null,
            "left": null,
            "margin": null,
            "max_height": null,
            "max_width": null,
            "min_height": null,
            "min_width": null,
            "object_fit": null,
            "object_position": null,
            "order": null,
            "overflow": null,
            "overflow_x": null,
            "overflow_y": null,
            "padding": null,
            "right": null,
            "top": null,
            "visibility": null,
            "width": null
          }
        },
        "500b766495004ebf8e6686042b0f0da9": {
          "model_module": "@jupyter-widgets/base",
          "model_name": "LayoutModel",
          "model_module_version": "1.2.0",
          "state": {
            "_model_module": "@jupyter-widgets/base",
            "_model_module_version": "1.2.0",
            "_model_name": "LayoutModel",
            "_view_count": null,
            "_view_module": "@jupyter-widgets/base",
            "_view_module_version": "1.2.0",
            "_view_name": "LayoutView",
            "align_content": null,
            "align_items": null,
            "align_self": null,
            "border": null,
            "bottom": null,
            "display": null,
            "flex": null,
            "flex_flow": null,
            "grid_area": null,
            "grid_auto_columns": null,
            "grid_auto_flow": null,
            "grid_auto_rows": null,
            "grid_column": null,
            "grid_gap": null,
            "grid_row": null,
            "grid_template_areas": null,
            "grid_template_columns": null,
            "grid_template_rows": null,
            "height": null,
            "justify_content": null,
            "justify_items": null,
            "left": null,
            "margin": null,
            "max_height": null,
            "max_width": null,
            "min_height": null,
            "min_width": null,
            "object_fit": null,
            "object_position": null,
            "order": null,
            "overflow": null,
            "overflow_x": null,
            "overflow_y": null,
            "padding": null,
            "right": null,
            "top": null,
            "visibility": null,
            "width": null
          }
        },
        "2b8f2ac817e045b78e468530d459255b": {
          "model_module": "@jupyter-widgets/controls",
          "model_name": "DescriptionStyleModel",
          "model_module_version": "1.5.0",
          "state": {
            "_model_module": "@jupyter-widgets/controls",
            "_model_module_version": "1.5.0",
            "_model_name": "DescriptionStyleModel",
            "_view_count": null,
            "_view_module": "@jupyter-widgets/base",
            "_view_module_version": "1.2.0",
            "_view_name": "StyleView",
            "description_width": ""
          }
        },
        "c3e2ca283ba943e8bf08003bb2c12130": {
          "model_module": "@jupyter-widgets/base",
          "model_name": "LayoutModel",
          "model_module_version": "1.2.0",
          "state": {
            "_model_module": "@jupyter-widgets/base",
            "_model_module_version": "1.2.0",
            "_model_name": "LayoutModel",
            "_view_count": null,
            "_view_module": "@jupyter-widgets/base",
            "_view_module_version": "1.2.0",
            "_view_name": "LayoutView",
            "align_content": null,
            "align_items": null,
            "align_self": null,
            "border": null,
            "bottom": null,
            "display": null,
            "flex": null,
            "flex_flow": null,
            "grid_area": null,
            "grid_auto_columns": null,
            "grid_auto_flow": null,
            "grid_auto_rows": null,
            "grid_column": null,
            "grid_gap": null,
            "grid_row": null,
            "grid_template_areas": null,
            "grid_template_columns": null,
            "grid_template_rows": null,
            "height": null,
            "justify_content": null,
            "justify_items": null,
            "left": null,
            "margin": null,
            "max_height": null,
            "max_width": null,
            "min_height": null,
            "min_width": null,
            "object_fit": null,
            "object_position": null,
            "order": null,
            "overflow": null,
            "overflow_x": null,
            "overflow_y": null,
            "padding": null,
            "right": null,
            "top": null,
            "visibility": null,
            "width": null
          }
        },
        "4607200952cb4401a8ad9b7a2f388f4b": {
          "model_module": "@jupyter-widgets/controls",
          "model_name": "ProgressStyleModel",
          "model_module_version": "1.5.0",
          "state": {
            "_model_module": "@jupyter-widgets/controls",
            "_model_module_version": "1.5.0",
            "_model_name": "ProgressStyleModel",
            "_view_count": null,
            "_view_module": "@jupyter-widgets/base",
            "_view_module_version": "1.2.0",
            "_view_name": "StyleView",
            "bar_color": null,
            "description_width": ""
          }
        },
        "b8a97f060bb747d8a877d8bc6eca2792": {
          "model_module": "@jupyter-widgets/base",
          "model_name": "LayoutModel",
          "model_module_version": "1.2.0",
          "state": {
            "_model_module": "@jupyter-widgets/base",
            "_model_module_version": "1.2.0",
            "_model_name": "LayoutModel",
            "_view_count": null,
            "_view_module": "@jupyter-widgets/base",
            "_view_module_version": "1.2.0",
            "_view_name": "LayoutView",
            "align_content": null,
            "align_items": null,
            "align_self": null,
            "border": null,
            "bottom": null,
            "display": null,
            "flex": null,
            "flex_flow": null,
            "grid_area": null,
            "grid_auto_columns": null,
            "grid_auto_flow": null,
            "grid_auto_rows": null,
            "grid_column": null,
            "grid_gap": null,
            "grid_row": null,
            "grid_template_areas": null,
            "grid_template_columns": null,
            "grid_template_rows": null,
            "height": null,
            "justify_content": null,
            "justify_items": null,
            "left": null,
            "margin": null,
            "max_height": null,
            "max_width": null,
            "min_height": null,
            "min_width": null,
            "object_fit": null,
            "object_position": null,
            "order": null,
            "overflow": null,
            "overflow_x": null,
            "overflow_y": null,
            "padding": null,
            "right": null,
            "top": null,
            "visibility": null,
            "width": null
          }
        },
        "32e3525185654d4fb543d432643a6740": {
          "model_module": "@jupyter-widgets/controls",
          "model_name": "DescriptionStyleModel",
          "model_module_version": "1.5.0",
          "state": {
            "_model_module": "@jupyter-widgets/controls",
            "_model_module_version": "1.5.0",
            "_model_name": "DescriptionStyleModel",
            "_view_count": null,
            "_view_module": "@jupyter-widgets/base",
            "_view_module_version": "1.2.0",
            "_view_name": "StyleView",
            "description_width": ""
          }
        },
        "352830300bbd40bea8e2e14e164858d8": {
          "model_module": "@jupyter-widgets/controls",
          "model_name": "HBoxModel",
          "model_module_version": "1.5.0",
          "state": {
            "_dom_classes": [],
            "_model_module": "@jupyter-widgets/controls",
            "_model_module_version": "1.5.0",
            "_model_name": "HBoxModel",
            "_view_count": null,
            "_view_module": "@jupyter-widgets/controls",
            "_view_module_version": "1.5.0",
            "_view_name": "HBoxView",
            "box_style": "",
            "children": [
              "IPY_MODEL_c4ffed5dec634d1193b07abfc47f4267",
              "IPY_MODEL_625762f2d2f6433d9a75a1f26342e128",
              "IPY_MODEL_133d7a6693824af09d83b43ed01220f3"
            ],
            "layout": "IPY_MODEL_d8703f4721f5472cbd1bb93026476fdf"
          }
        },
        "c4ffed5dec634d1193b07abfc47f4267": {
          "model_module": "@jupyter-widgets/controls",
          "model_name": "HTMLModel",
          "model_module_version": "1.5.0",
          "state": {
            "_dom_classes": [],
            "_model_module": "@jupyter-widgets/controls",
            "_model_module_version": "1.5.0",
            "_model_name": "HTMLModel",
            "_view_count": null,
            "_view_module": "@jupyter-widgets/controls",
            "_view_module_version": "1.5.0",
            "_view_name": "HTMLView",
            "description": "",
            "description_tooltip": null,
            "layout": "IPY_MODEL_eb2234d0d3e24c4184f3ac19655aff78",
            "placeholder": "​",
            "style": "IPY_MODEL_4fa7f257586b47618b33f81202553505",
            "value": "Validation loop: 100%"
          }
        },
        "625762f2d2f6433d9a75a1f26342e128": {
          "model_module": "@jupyter-widgets/controls",
          "model_name": "FloatProgressModel",
          "model_module_version": "1.5.0",
          "state": {
            "_dom_classes": [],
            "_model_module": "@jupyter-widgets/controls",
            "_model_module_version": "1.5.0",
            "_model_name": "FloatProgressModel",
            "_view_count": null,
            "_view_module": "@jupyter-widgets/controls",
            "_view_module_version": "1.5.0",
            "_view_name": "ProgressView",
            "bar_style": "success",
            "description": "",
            "description_tooltip": null,
            "layout": "IPY_MODEL_076f9f7b817947d9beb2e53d02db669e",
            "max": 83,
            "min": 0,
            "orientation": "horizontal",
            "style": "IPY_MODEL_f9997be313a84d5d8d3bb3cebd136d8c",
            "value": 83
          }
        },
        "133d7a6693824af09d83b43ed01220f3": {
          "model_module": "@jupyter-widgets/controls",
          "model_name": "HTMLModel",
          "model_module_version": "1.5.0",
          "state": {
            "_dom_classes": [],
            "_model_module": "@jupyter-widgets/controls",
            "_model_module_version": "1.5.0",
            "_model_name": "HTMLModel",
            "_view_count": null,
            "_view_module": "@jupyter-widgets/controls",
            "_view_module_version": "1.5.0",
            "_view_name": "HTMLView",
            "description": "",
            "description_tooltip": null,
            "layout": "IPY_MODEL_849e6b9d95c34fd8b13220931a78e08e",
            "placeholder": "​",
            "style": "IPY_MODEL_e4a2d599f26c4076a19c01e0c054e80a",
            "value": " 83/83 [00:46&lt;00:00,  1.75it/s]"
          }
        },
        "d8703f4721f5472cbd1bb93026476fdf": {
          "model_module": "@jupyter-widgets/base",
          "model_name": "LayoutModel",
          "model_module_version": "1.2.0",
          "state": {
            "_model_module": "@jupyter-widgets/base",
            "_model_module_version": "1.2.0",
            "_model_name": "LayoutModel",
            "_view_count": null,
            "_view_module": "@jupyter-widgets/base",
            "_view_module_version": "1.2.0",
            "_view_name": "LayoutView",
            "align_content": null,
            "align_items": null,
            "align_self": null,
            "border": null,
            "bottom": null,
            "display": null,
            "flex": null,
            "flex_flow": null,
            "grid_area": null,
            "grid_auto_columns": null,
            "grid_auto_flow": null,
            "grid_auto_rows": null,
            "grid_column": null,
            "grid_gap": null,
            "grid_row": null,
            "grid_template_areas": null,
            "grid_template_columns": null,
            "grid_template_rows": null,
            "height": null,
            "justify_content": null,
            "justify_items": null,
            "left": null,
            "margin": null,
            "max_height": null,
            "max_width": null,
            "min_height": null,
            "min_width": null,
            "object_fit": null,
            "object_position": null,
            "order": null,
            "overflow": null,
            "overflow_x": null,
            "overflow_y": null,
            "padding": null,
            "right": null,
            "top": null,
            "visibility": null,
            "width": null
          }
        },
        "eb2234d0d3e24c4184f3ac19655aff78": {
          "model_module": "@jupyter-widgets/base",
          "model_name": "LayoutModel",
          "model_module_version": "1.2.0",
          "state": {
            "_model_module": "@jupyter-widgets/base",
            "_model_module_version": "1.2.0",
            "_model_name": "LayoutModel",
            "_view_count": null,
            "_view_module": "@jupyter-widgets/base",
            "_view_module_version": "1.2.0",
            "_view_name": "LayoutView",
            "align_content": null,
            "align_items": null,
            "align_self": null,
            "border": null,
            "bottom": null,
            "display": null,
            "flex": null,
            "flex_flow": null,
            "grid_area": null,
            "grid_auto_columns": null,
            "grid_auto_flow": null,
            "grid_auto_rows": null,
            "grid_column": null,
            "grid_gap": null,
            "grid_row": null,
            "grid_template_areas": null,
            "grid_template_columns": null,
            "grid_template_rows": null,
            "height": null,
            "justify_content": null,
            "justify_items": null,
            "left": null,
            "margin": null,
            "max_height": null,
            "max_width": null,
            "min_height": null,
            "min_width": null,
            "object_fit": null,
            "object_position": null,
            "order": null,
            "overflow": null,
            "overflow_x": null,
            "overflow_y": null,
            "padding": null,
            "right": null,
            "top": null,
            "visibility": null,
            "width": null
          }
        },
        "4fa7f257586b47618b33f81202553505": {
          "model_module": "@jupyter-widgets/controls",
          "model_name": "DescriptionStyleModel",
          "model_module_version": "1.5.0",
          "state": {
            "_model_module": "@jupyter-widgets/controls",
            "_model_module_version": "1.5.0",
            "_model_name": "DescriptionStyleModel",
            "_view_count": null,
            "_view_module": "@jupyter-widgets/base",
            "_view_module_version": "1.2.0",
            "_view_name": "StyleView",
            "description_width": ""
          }
        },
        "076f9f7b817947d9beb2e53d02db669e": {
          "model_module": "@jupyter-widgets/base",
          "model_name": "LayoutModel",
          "model_module_version": "1.2.0",
          "state": {
            "_model_module": "@jupyter-widgets/base",
            "_model_module_version": "1.2.0",
            "_model_name": "LayoutModel",
            "_view_count": null,
            "_view_module": "@jupyter-widgets/base",
            "_view_module_version": "1.2.0",
            "_view_name": "LayoutView",
            "align_content": null,
            "align_items": null,
            "align_self": null,
            "border": null,
            "bottom": null,
            "display": null,
            "flex": null,
            "flex_flow": null,
            "grid_area": null,
            "grid_auto_columns": null,
            "grid_auto_flow": null,
            "grid_auto_rows": null,
            "grid_column": null,
            "grid_gap": null,
            "grid_row": null,
            "grid_template_areas": null,
            "grid_template_columns": null,
            "grid_template_rows": null,
            "height": null,
            "justify_content": null,
            "justify_items": null,
            "left": null,
            "margin": null,
            "max_height": null,
            "max_width": null,
            "min_height": null,
            "min_width": null,
            "object_fit": null,
            "object_position": null,
            "order": null,
            "overflow": null,
            "overflow_x": null,
            "overflow_y": null,
            "padding": null,
            "right": null,
            "top": null,
            "visibility": null,
            "width": null
          }
        },
        "f9997be313a84d5d8d3bb3cebd136d8c": {
          "model_module": "@jupyter-widgets/controls",
          "model_name": "ProgressStyleModel",
          "model_module_version": "1.5.0",
          "state": {
            "_model_module": "@jupyter-widgets/controls",
            "_model_module_version": "1.5.0",
            "_model_name": "ProgressStyleModel",
            "_view_count": null,
            "_view_module": "@jupyter-widgets/base",
            "_view_module_version": "1.2.0",
            "_view_name": "StyleView",
            "bar_color": null,
            "description_width": ""
          }
        },
        "849e6b9d95c34fd8b13220931a78e08e": {
          "model_module": "@jupyter-widgets/base",
          "model_name": "LayoutModel",
          "model_module_version": "1.2.0",
          "state": {
            "_model_module": "@jupyter-widgets/base",
            "_model_module_version": "1.2.0",
            "_model_name": "LayoutModel",
            "_view_count": null,
            "_view_module": "@jupyter-widgets/base",
            "_view_module_version": "1.2.0",
            "_view_name": "LayoutView",
            "align_content": null,
            "align_items": null,
            "align_self": null,
            "border": null,
            "bottom": null,
            "display": null,
            "flex": null,
            "flex_flow": null,
            "grid_area": null,
            "grid_auto_columns": null,
            "grid_auto_flow": null,
            "grid_auto_rows": null,
            "grid_column": null,
            "grid_gap": null,
            "grid_row": null,
            "grid_template_areas": null,
            "grid_template_columns": null,
            "grid_template_rows": null,
            "height": null,
            "justify_content": null,
            "justify_items": null,
            "left": null,
            "margin": null,
            "max_height": null,
            "max_width": null,
            "min_height": null,
            "min_width": null,
            "object_fit": null,
            "object_position": null,
            "order": null,
            "overflow": null,
            "overflow_x": null,
            "overflow_y": null,
            "padding": null,
            "right": null,
            "top": null,
            "visibility": null,
            "width": null
          }
        },
        "e4a2d599f26c4076a19c01e0c054e80a": {
          "model_module": "@jupyter-widgets/controls",
          "model_name": "DescriptionStyleModel",
          "model_module_version": "1.5.0",
          "state": {
            "_model_module": "@jupyter-widgets/controls",
            "_model_module_version": "1.5.0",
            "_model_name": "DescriptionStyleModel",
            "_view_count": null,
            "_view_module": "@jupyter-widgets/base",
            "_view_module_version": "1.2.0",
            "_view_name": "StyleView",
            "description_width": ""
          }
        },
        "a640fea892384a69bf4d6c5a7cee6b37": {
          "model_module": "@jupyter-widgets/controls",
          "model_name": "HBoxModel",
          "model_module_version": "1.5.0",
          "state": {
            "_dom_classes": [],
            "_model_module": "@jupyter-widgets/controls",
            "_model_module_version": "1.5.0",
            "_model_name": "HBoxModel",
            "_view_count": null,
            "_view_module": "@jupyter-widgets/controls",
            "_view_module_version": "1.5.0",
            "_view_name": "HBoxView",
            "box_style": "",
            "children": [
              "IPY_MODEL_d30909e7993743d4b6faf85bacb3483c",
              "IPY_MODEL_45599e7fed374aacb4f27bf45253264e",
              "IPY_MODEL_04639d99d6264b639fdfb2bf0491b362"
            ],
            "layout": "IPY_MODEL_583ec58ea7d64ff0a64ce436003d72e2"
          }
        },
        "d30909e7993743d4b6faf85bacb3483c": {
          "model_module": "@jupyter-widgets/controls",
          "model_name": "HTMLModel",
          "model_module_version": "1.5.0",
          "state": {
            "_dom_classes": [],
            "_model_module": "@jupyter-widgets/controls",
            "_model_module_version": "1.5.0",
            "_model_name": "HTMLModel",
            "_view_count": null,
            "_view_module": "@jupyter-widgets/controls",
            "_view_module_version": "1.5.0",
            "_view_name": "HTMLView",
            "description": "",
            "description_tooltip": null,
            "layout": "IPY_MODEL_6316efdf24554f6bb612ece79861de13",
            "placeholder": "​",
            "style": "IPY_MODEL_28930aad5c594432b1f7131f7885ccb7",
            "value": "Training loop:  34%"
          }
        },
        "45599e7fed374aacb4f27bf45253264e": {
          "model_module": "@jupyter-widgets/controls",
          "model_name": "FloatProgressModel",
          "model_module_version": "1.5.0",
          "state": {
            "_dom_classes": [],
            "_model_module": "@jupyter-widgets/controls",
            "_model_module_version": "1.5.0",
            "_model_name": "FloatProgressModel",
            "_view_count": null,
            "_view_module": "@jupyter-widgets/controls",
            "_view_module_version": "1.5.0",
            "_view_name": "ProgressView",
            "bar_style": "",
            "description": "",
            "description_tooltip": null,
            "layout": "IPY_MODEL_92469fc971124fadaf257ecaf19909a2",
            "max": 2645,
            "min": 0,
            "orientation": "horizontal",
            "style": "IPY_MODEL_3d2c294276b24b05bcd36315981b4f01",
            "value": 888
          }
        },
        "04639d99d6264b639fdfb2bf0491b362": {
          "model_module": "@jupyter-widgets/controls",
          "model_name": "HTMLModel",
          "model_module_version": "1.5.0",
          "state": {
            "_dom_classes": [],
            "_model_module": "@jupyter-widgets/controls",
            "_model_module_version": "1.5.0",
            "_model_name": "HTMLModel",
            "_view_count": null,
            "_view_module": "@jupyter-widgets/controls",
            "_view_module_version": "1.5.0",
            "_view_name": "HTMLView",
            "description": "",
            "description_tooltip": null,
            "layout": "IPY_MODEL_aea94e10768d4e6aadebceb4a91d8dac",
            "placeholder": "​",
            "style": "IPY_MODEL_e3561162fdb245c9ae005996947b2a0c",
            "value": " 888/2645 [51:08&lt;1:43:02,  3.52s/it]"
          }
        },
        "583ec58ea7d64ff0a64ce436003d72e2": {
          "model_module": "@jupyter-widgets/base",
          "model_name": "LayoutModel",
          "model_module_version": "1.2.0",
          "state": {
            "_model_module": "@jupyter-widgets/base",
            "_model_module_version": "1.2.0",
            "_model_name": "LayoutModel",
            "_view_count": null,
            "_view_module": "@jupyter-widgets/base",
            "_view_module_version": "1.2.0",
            "_view_name": "LayoutView",
            "align_content": null,
            "align_items": null,
            "align_self": null,
            "border": null,
            "bottom": null,
            "display": null,
            "flex": null,
            "flex_flow": null,
            "grid_area": null,
            "grid_auto_columns": null,
            "grid_auto_flow": null,
            "grid_auto_rows": null,
            "grid_column": null,
            "grid_gap": null,
            "grid_row": null,
            "grid_template_areas": null,
            "grid_template_columns": null,
            "grid_template_rows": null,
            "height": null,
            "justify_content": null,
            "justify_items": null,
            "left": null,
            "margin": null,
            "max_height": null,
            "max_width": null,
            "min_height": null,
            "min_width": null,
            "object_fit": null,
            "object_position": null,
            "order": null,
            "overflow": null,
            "overflow_x": null,
            "overflow_y": null,
            "padding": null,
            "right": null,
            "top": null,
            "visibility": null,
            "width": null
          }
        },
        "6316efdf24554f6bb612ece79861de13": {
          "model_module": "@jupyter-widgets/base",
          "model_name": "LayoutModel",
          "model_module_version": "1.2.0",
          "state": {
            "_model_module": "@jupyter-widgets/base",
            "_model_module_version": "1.2.0",
            "_model_name": "LayoutModel",
            "_view_count": null,
            "_view_module": "@jupyter-widgets/base",
            "_view_module_version": "1.2.0",
            "_view_name": "LayoutView",
            "align_content": null,
            "align_items": null,
            "align_self": null,
            "border": null,
            "bottom": null,
            "display": null,
            "flex": null,
            "flex_flow": null,
            "grid_area": null,
            "grid_auto_columns": null,
            "grid_auto_flow": null,
            "grid_auto_rows": null,
            "grid_column": null,
            "grid_gap": null,
            "grid_row": null,
            "grid_template_areas": null,
            "grid_template_columns": null,
            "grid_template_rows": null,
            "height": null,
            "justify_content": null,
            "justify_items": null,
            "left": null,
            "margin": null,
            "max_height": null,
            "max_width": null,
            "min_height": null,
            "min_width": null,
            "object_fit": null,
            "object_position": null,
            "order": null,
            "overflow": null,
            "overflow_x": null,
            "overflow_y": null,
            "padding": null,
            "right": null,
            "top": null,
            "visibility": null,
            "width": null
          }
        },
        "28930aad5c594432b1f7131f7885ccb7": {
          "model_module": "@jupyter-widgets/controls",
          "model_name": "DescriptionStyleModel",
          "model_module_version": "1.5.0",
          "state": {
            "_model_module": "@jupyter-widgets/controls",
            "_model_module_version": "1.5.0",
            "_model_name": "DescriptionStyleModel",
            "_view_count": null,
            "_view_module": "@jupyter-widgets/base",
            "_view_module_version": "1.2.0",
            "_view_name": "StyleView",
            "description_width": ""
          }
        },
        "92469fc971124fadaf257ecaf19909a2": {
          "model_module": "@jupyter-widgets/base",
          "model_name": "LayoutModel",
          "model_module_version": "1.2.0",
          "state": {
            "_model_module": "@jupyter-widgets/base",
            "_model_module_version": "1.2.0",
            "_model_name": "LayoutModel",
            "_view_count": null,
            "_view_module": "@jupyter-widgets/base",
            "_view_module_version": "1.2.0",
            "_view_name": "LayoutView",
            "align_content": null,
            "align_items": null,
            "align_self": null,
            "border": null,
            "bottom": null,
            "display": null,
            "flex": null,
            "flex_flow": null,
            "grid_area": null,
            "grid_auto_columns": null,
            "grid_auto_flow": null,
            "grid_auto_rows": null,
            "grid_column": null,
            "grid_gap": null,
            "grid_row": null,
            "grid_template_areas": null,
            "grid_template_columns": null,
            "grid_template_rows": null,
            "height": null,
            "justify_content": null,
            "justify_items": null,
            "left": null,
            "margin": null,
            "max_height": null,
            "max_width": null,
            "min_height": null,
            "min_width": null,
            "object_fit": null,
            "object_position": null,
            "order": null,
            "overflow": null,
            "overflow_x": null,
            "overflow_y": null,
            "padding": null,
            "right": null,
            "top": null,
            "visibility": null,
            "width": null
          }
        },
        "3d2c294276b24b05bcd36315981b4f01": {
          "model_module": "@jupyter-widgets/controls",
          "model_name": "ProgressStyleModel",
          "model_module_version": "1.5.0",
          "state": {
            "_model_module": "@jupyter-widgets/controls",
            "_model_module_version": "1.5.0",
            "_model_name": "ProgressStyleModel",
            "_view_count": null,
            "_view_module": "@jupyter-widgets/base",
            "_view_module_version": "1.2.0",
            "_view_name": "StyleView",
            "bar_color": null,
            "description_width": ""
          }
        },
        "aea94e10768d4e6aadebceb4a91d8dac": {
          "model_module": "@jupyter-widgets/base",
          "model_name": "LayoutModel",
          "model_module_version": "1.2.0",
          "state": {
            "_model_module": "@jupyter-widgets/base",
            "_model_module_version": "1.2.0",
            "_model_name": "LayoutModel",
            "_view_count": null,
            "_view_module": "@jupyter-widgets/base",
            "_view_module_version": "1.2.0",
            "_view_name": "LayoutView",
            "align_content": null,
            "align_items": null,
            "align_self": null,
            "border": null,
            "bottom": null,
            "display": null,
            "flex": null,
            "flex_flow": null,
            "grid_area": null,
            "grid_auto_columns": null,
            "grid_auto_flow": null,
            "grid_auto_rows": null,
            "grid_column": null,
            "grid_gap": null,
            "grid_row": null,
            "grid_template_areas": null,
            "grid_template_columns": null,
            "grid_template_rows": null,
            "height": null,
            "justify_content": null,
            "justify_items": null,
            "left": null,
            "margin": null,
            "max_height": null,
            "max_width": null,
            "min_height": null,
            "min_width": null,
            "object_fit": null,
            "object_position": null,
            "order": null,
            "overflow": null,
            "overflow_x": null,
            "overflow_y": null,
            "padding": null,
            "right": null,
            "top": null,
            "visibility": null,
            "width": null
          }
        },
        "e3561162fdb245c9ae005996947b2a0c": {
          "model_module": "@jupyter-widgets/controls",
          "model_name": "DescriptionStyleModel",
          "model_module_version": "1.5.0",
          "state": {
            "_model_module": "@jupyter-widgets/controls",
            "_model_module_version": "1.5.0",
            "_model_name": "DescriptionStyleModel",
            "_view_count": null,
            "_view_module": "@jupyter-widgets/base",
            "_view_module_version": "1.2.0",
            "_view_name": "StyleView",
            "description_width": ""
          }
        }
      }
    }
  },
  "nbformat": 4,
  "nbformat_minor": 0
}